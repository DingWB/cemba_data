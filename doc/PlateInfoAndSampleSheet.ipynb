{
 "cells": [
  {
   "cell_type": "markdown",
   "metadata": {},
   "source": [
    "# Make Sample Sheet (inhouse)\n",
    "\n",
    "## Step 1: Prepare a PlateInfo file\n",
    "\n",
    "### What is PlateInfo file?\n",
    "- A plain text file with experimental, library, and barcoding information.\n",
    "- This file need to be made by user for each library.\n",
    "- The main content of this file is the **barcoding information for each plate in the library**, so the pipeline can properly **demultiplex and name the single cell files** with that information\n",
    "- The barcoding information also allows automatic parse the original well (row and column) of the plate where the cell locates.\n",
    "- If your project have special design in different rows/columns, you can integrate that **after** mapping by yourself, based on the row/column information the pipeline gives.\n",
    "- The initial 8-random-index barcoding version is V1, the new 384-random index barcoding version is V2\n",
    "\n",
    "\n",
    "### Get plate_info.txt template\n",
    "```shell\n",
    "yap default-plate-info\n",
    "```\n",
    "\n",
    "#### V1 (8-random-index) plate info"
   ]
  },
  {
   "cell_type": "code",
   "execution_count": 1,
   "metadata": {
    "ExecuteTime": {
     "end_time": "2019-10-06T04:41:00.871589Z",
     "start_time": "2019-10-06T04:40:58.144578Z"
    },
    "scrolled": true
   },
   "outputs": [
    {
     "name": "stdout",
     "output_type": "stream",
     "text": [
      "# Executing default-plate-info...\r\n",
      "#                               .__\r\n",
      "#   ___________    _____ ______ |  |   ____\r\n",
      "#  /  ___/\\__  \\  /     \\\\____ \\|  | _/ __ \\\r\n",
      "#  \\___ \\  / __ \\|  Y Y  \\  |_> >  |_\\  ___/\r\n",
      "# /____  >(____  /__|_|  /   __/|____/\\___  >\r\n",
      "#      \\/      \\/      \\/|__|             \\/\r\n",
      "#        .__                   __  ._.\r\n",
      "#   _____|  |__   ____   _____/  |_| |\r\n",
      "#  /  ___/  |  \\_/ __ \\_/ __ \\   __\\ |\r\n",
      "#  \\___ \\|   Y  \\  ___/\\  ___/|  |  \\|\r\n",
      "# /____  >___|  /\\___  >\\___  >__|  __\r\n",
      "#      \\/     \\/     \\/     \\/      \\/\r\n",
      "#\r\n",
      "# ____   ________\r\n",
      "# \\   \\ /   /_   |\r\n",
      "#  \\   Y   / |   |\r\n",
      "#   \\     /  |   |\r\n",
      "#    \\___/   |___|\r\n",
      "#\r\n",
      "#\r\n",
      "# PlateInfo template of single cell sequencing demultiplex\r\n",
      "#\r\n",
      "# This file template contain 3 sections.\r\n",
      "#\r\n",
      "# [CriticalInfo]\r\n",
      "# [LibraryInfo]\r\n",
      "# [PlateInfo]\r\n",
      "#\r\n",
      "# The final sample id will be values of each part concatenated by \"-\" in the following order\r\n",
      "# [Values in LibraryInfo] + [Additional values in PlateInfo] + [Sample UID determined by library strategy]\r\n",
      "#\r\n",
      "# Empty lines and line start with \"#\" will be ignored. You can remove these if you understand the template.\r\n",
      "#\r\n",
      "\r\n",
      "\r\n",
      "# =====================================================================================================\r\n",
      "\r\n",
      "[CriticalInfo]\r\n",
      "\r\n",
      "# =====================================================================================================\r\n",
      "\r\n",
      "# Explain:\r\n",
      "# Every key=value pairs are required. key name can not be change.\r\n",
      "# Some values have limited options, they are:\r\n",
      "# n_random_index choice: 8 (V1), if your n_random_index=384, use V2 template!\r\n",
      "# input_plate_size choice: 384\r\n",
      "#\r\n",
      "# Example:\r\n",
      "# n_random_index=8\r\n",
      "# input_plate_size=384\r\n",
      "# pool_id=Pool_NN\r\n",
      "# tube_label=Pool_NN_MM_AA_BB  # often times 2 libraries are pooled together on Nova-Seq, but there is no rule on this.\r\n",
      "# email=your-email@salk.edu\r\n",
      "#\r\n",
      "\r\n",
      "# if your n_random_index=384, use V2 template!\r\n",
      "n_random_index=8\r\n",
      "input_plate_size=384\r\n",
      "pool_id=\r\n",
      "tube_label=\r\n",
      "email=\r\n",
      "\r\n",
      "\r\n",
      "# =====================================================================================================\r\n",
      "\r\n",
      "[LibraryInfo]\r\n",
      "\r\n",
      "# =====================================================================================================\r\n",
      "#\r\n",
      "# Explain:\r\n",
      "# library metadata that applies to all plates\r\n",
      "# this whole part is optional, may contain any \"key=value\" pairs necessary to describe the library.\r\n",
      "# All the values will be concatenate by \"-\" into the sample id and present in file name. Use UNIX path safe characters.\r\n",
      "# Any \"-\" in value will be replaced by \"_\"\r\n",
      "# Here are the recommended information to include, you can define your own based on your needs,\r\n",
      "# non of these information is actually used in demultiplex or mapping:\r\n",
      "# these keys are ALL optional, but better be consistent throughout the project.\r\n",
      "#\r\n",
      "# Example:\r\n",
      "# lib_comp_date=180101\r\n",
      "# project=CEMBA\r\n",
      "# organism=mm\r\n",
      "# dev_stage_age=P56\r\n",
      "# tissue_cell_type=1A\r\n",
      "# exp_cond=1\r\n",
      "# bio_rep=1\r\n",
      "# tech_rep=1\r\n",
      "# lib_type=snmC-seq2\r\n",
      "# sequencer=NovaSeq\r\n",
      "# se_pe=pe\r\n",
      "# read_length=150\r\n",
      "# requested_by=HL\r\n",
      "#\r\n",
      "\r\n",
      "\r\n",
      "\r\n",
      "\r\n",
      "\r\n",
      "# =====================================================================================================\r\n",
      "\r\n",
      "[PlateInfo]\r\n",
      "\r\n",
      "# =====================================================================================================\r\n",
      "\r\n",
      "# Explain:\r\n",
      "# Plate metadata that specific to certain plates, a tab separated table\r\n",
      "# First row must be header start with: plate_id\tprimer_quarter\r\n",
      "# First 2 columns are required and must be in the order of: plate_id\tprimer_quarter\r\n",
      "# You can add more plate specific info into additional columns, those info will be appended to LibraryInfo as part of sample_id.\r\n",
      "# All the values will be concatenate by \"-\" into the sample id and present in file name.\r\n",
      "# So better not to include \"-\" in value and use UNIX path safe characters.\r\n",
      "#\r\n",
      "# If your experiment design contain sup-plate difference (e.g. some rows come from 1 sample, some rows come from another),\r\n",
      "# you should maintain your own metadata about this and added into the mapping summary table later after mapping by yourself\r\n",
      "# Because here the plate info is just for barcode demultiplexing, so that we can get single cell data AND the plate position of each cell\r\n",
      "# with the plate position, it should be very convenient for you to add any custom information you designed in your experiment.\r\n",
      "#\r\n",
      "# primer_quarter valid values are:\r\n",
      "# Set1_Q1, Set1_Q2, Set1_Q3, Set1_Q4\r\n",
      "# SetB_Q1, SetB_Q2, SetB_Q3, SetB_Q4\r\n",
      "#\r\n",
      "# Example:\r\n",
      "# plate_id\tprimer_quarter\r\n",
      "# CEMBA190530_9C_1\tSetB_Q1\r\n",
      "# CEMBA190530_9C_2\tSetB_Q1\r\n",
      "# CEMBA190530_9C_3\tSetB_Q2\r\n",
      "# CEMBA190530_9C_4\tSetB_Q2\r\n",
      "# CEMBA190620_9C_1\tSetB_Q3\r\n",
      "# CEMBA190620_9C_2\tSetB_Q3\r\n",
      "# CEMBA190620_9C_3\tSetB_Q4\r\n",
      "# CEMBA190620_9C_4\tSetB_Q4\r\n",
      "#\r\n",
      "# Remember the columns MUST be separate by tab not space\r\n",
      "#\r\n",
      "\r\n",
      "\r\n",
      "# =====================================================================================================\r\n",
      "# if your n_random_index=384, use V2 template!\r\n",
      "# =====================================================================================================\r\n",
      "\r\n",
      "plate_id\tprimer_quarter\r\n",
      "\r\n",
      "\r\n",
      "\r\n",
      "\r\n",
      "# default-plate-info finished.\r\n"
     ]
    }
   ],
   "source": [
    "!yap default-plate-info -v V1"
   ]
  },
  {
   "cell_type": "markdown",
   "metadata": {},
   "source": [
    "#### V2 (384-random-index) plate info"
   ]
  },
  {
   "cell_type": "code",
   "execution_count": 2,
   "metadata": {
    "ExecuteTime": {
     "end_time": "2019-10-06T04:41:07.219576Z",
     "start_time": "2019-10-06T04:41:05.717761Z"
    }
   },
   "outputs": [
    {
     "name": "stdout",
     "output_type": "stream",
     "text": [
      "# Executing default-plate-info...\r\n",
      "#                               .__\r\n",
      "#   ___________    _____ ______ |  |   ____\r\n",
      "#  /  ___/\\__  \\  /     \\\\____ \\|  | _/ __ \\\r\n",
      "#  \\___ \\  / __ \\|  Y Y  \\  |_> >  |_\\  ___/\r\n",
      "# /____  >(____  /__|_|  /   __/|____/\\___  >\r\n",
      "#      \\/      \\/      \\/|__|             \\/\r\n",
      "#        .__                   __  ._.\r\n",
      "#   _____|  |__   ____   _____/  |_| |\r\n",
      "#  /  ___/  |  \\_/ __ \\_/ __ \\   __\\ |\r\n",
      "#  \\___ \\|   Y  \\  ___/\\  ___/|  |  \\|\r\n",
      "# /____  >___|  /\\___  >\\___  >__|  __\r\n",
      "#      \\/     \\/     \\/     \\/      \\/\r\n",
      "#\r\n",
      "# ____   ____________\r\n",
      "# \\   \\ /   /\\_____  \\\r\n",
      "#  \\   Y   /  /  ____/\r\n",
      "#   \\     /  /       \\\r\n",
      "#    \\___/   \\_______ \\\r\n",
      "#                    \\/\r\n",
      "#\r\n",
      "# PlateInfo template of single cell sequencing demultiplex\r\n",
      "#\r\n",
      "# This file template contain 3 sections.\r\n",
      "#\r\n",
      "# [CriticalInfo]\r\n",
      "# [LibraryInfo]\r\n",
      "# [PlateInfo]\r\n",
      "#\r\n",
      "# The final sample id will be values of each part concatenated by \"-\" in the following order\r\n",
      "# [Values in LibraryInfo] + [Additional values in PlateInfo] + [Sample UID determined by library strategy]\r\n",
      "#\r\n",
      "# Empty lines and line start with \"#\" will be ignored. You can remove these if you understand the template.\r\n",
      "#\r\n",
      "\r\n",
      "\r\n",
      "# =====================================================================================================\r\n",
      "\r\n",
      "[CriticalInfo]\r\n",
      "\r\n",
      "# =====================================================================================================\r\n",
      "\r\n",
      "# Explain:\r\n",
      "# Every key=value pairs are required. key name can not be change.\r\n",
      "# Some values have limited options, they are:\r\n",
      "# n_random_index choice: 384 (V2), if your n_random_index=8, use V1 template!\r\n",
      "# input_plate_size choice: 384\r\n",
      "#\r\n",
      "#\r\n",
      "# Example:\r\n",
      "# n_random_index=8\r\n",
      "# input_plate_size=384\r\n",
      "# pool_id=Pool_73\r\n",
      "# tube_label=Pool_72_73_9A_10C  # often times 2 library are pooled together on Nova-Seq\r\n",
      "# email=your-email@salk.edu\r\n",
      "#\r\n",
      "\r\n",
      "# if your n_random_index=8, use V1 template!\r\n",
      "n_random_index=384\r\n",
      "input_plate_size=384\r\n",
      "pool_id=\r\n",
      "tube_label=\r\n",
      "email=\r\n",
      "\r\n",
      "\r\n",
      "# =====================================================================================================\r\n",
      "\r\n",
      "[LibraryInfo]\r\n",
      "\r\n",
      "# =====================================================================================================\r\n",
      "#\r\n",
      "# Explain:\r\n",
      "# library metadata that applies to all plates\r\n",
      "# this whole part is optional, may contain any \"key=value\" pairs necessary to describe the library.\r\n",
      "# All the values will be concatenate by \"-\" into the sample id and present in file name. Use UNIX path safe characters.\r\n",
      "# Any \"-\" in value will be replaced by \"_\"\r\n",
      "# Here are the recommended information to include, you can define your own based on your needs,\r\n",
      "# non of these information is actually used in demultiplex or mapping:\r\n",
      "# these keys are ALL optional, but better be consistent throughout the project.\r\n",
      "#\r\n",
      "# Example:\r\n",
      "# lib_comp_date=180101\r\n",
      "# project=CEMBA\r\n",
      "# organism=mm\r\n",
      "# dev_stage_age=P56\r\n",
      "# tissue_cell_type=1A\r\n",
      "# exp_cond=1\r\n",
      "# bio_rep=1\r\n",
      "# tech_rep=1\r\n",
      "# lib_type=snmC-seq2\r\n",
      "# sequencer=NovaSeq\r\n",
      "# se_pe=pe\r\n",
      "# read_length=150\r\n",
      "# requested_by=HL\r\n",
      "#\r\n",
      "#\r\n",
      "\r\n",
      "\r\n",
      "\r\n",
      "\r\n",
      "\r\n",
      "# =====================================================================================================\r\n",
      "\r\n",
      "[PlateInfo]\r\n",
      "\r\n",
      "# =====================================================================================================\r\n",
      "\r\n",
      "# Explain:\r\n",
      "# Plate metadata that specific to certain plates, a tab separated table\r\n",
      "# First row must be header start with: plate_id\tprimer_quarter\r\n",
      "# First 3 columns are required and must be in the order of: plate_id\tmultiplex_group\tprimer_name\r\n",
      "# You can add more plate specific info into additional columns, those info will be appended to LibraryInfo as part of sample_id.\r\n",
      "# All the values will be concatenate by \"-\" into the sample id and present in file name.\r\n",
      "# So better not to include \"-\" in value and use UNIX path safe characters.\r\n",
      "#\r\n",
      "# If your experiment design contain sup-plate difference (e.g. some rows come from 1 sample, some rows come from another),\r\n",
      "# you should maintain your own metadata about this and added into the mapping summary table later after mapping by yourself\r\n",
      "# Because here the plate info is just for barcode demultiplexing, so that we can get single cell data AND the plate position of each cell\r\n",
      "# with the plate position, it should be very convenient for you to add any custom information you designed in your experiment.\r\n",
      "#\r\n",
      "# primer_name valid values are:\r\n",
      "# [A-P][1-24]\r\n",
      "#\r\n",
      "# Example:\r\n",
      "# plate_id\tmultiplex_group\tprimer_name\r\n",
      "# Plate_1\t1\tB1\r\n",
      "# Plate_1\t2\tB3\r\n",
      "# Plate_1\t3\tB5\r\n",
      "# Plate_1\t4\tB7\r\n",
      "# Plate_1\t5\tB9\r\n",
      "# Plate_1\t6\tB11\r\n",
      "#\r\n",
      "# Remember the columns MUST be separate by tab, not space or comma\r\n",
      "#\r\n",
      "\r\n",
      "\r\n",
      "# =====================================================================================================\r\n",
      "# if your n_random_index=8, use V1 template!\r\n",
      "# =====================================================================================================\r\n",
      "\r\n",
      "plate_id\tmultiplex_group\tprimer_name\r\n",
      "\r\n",
      "\r\n",
      "\r\n",
      "\r\n",
      "# default-plate-info finished.\r\n"
     ]
    }
   ],
   "source": [
    "!yap default-plate-info -v V2"
   ]
  },
  {
   "cell_type": "markdown",
   "metadata": {},
   "source": [
    "## Step 2: Run `yap make-sample-sheet`\n",
    "\n",
    "- `yap make-sample-sheet` will recognize V1, V2 plate info file automatically, the sample sheet and name pattern for V1 and V2 is different, but all the subsequent command (`yap mapping` and `yap mapping-summary` will recognize this)\n",
    "\n",
    "- Usage\n",
    "```shell\n",
    "yap make-sample-sheet [-h] --plate_info_paths PLATE_INFO_PATHS\n",
    "                             [PLATE_INFO_PATHS ...] --output_prefix\n",
    "                             OUTPUT_PREFIX [--header_path HEADER_PATH]\n",
    "```"
   ]
  },
  {
   "cell_type": "code",
   "execution_count": 3,
   "metadata": {
    "ExecuteTime": {
     "end_time": "2019-10-06T04:42:27.730621Z",
     "start_time": "2019-10-06T04:42:24.664587Z"
    }
   },
   "outputs": [
    {
     "name": "stdout",
     "output_type": "stream",
     "text": [
      "usage: yap make-sample-sheet [-h] --plate_info_paths PLATE_INFO_PATHS\r\n",
      "                             [PLATE_INFO_PATHS ...] --output_prefix\r\n",
      "                             OUTPUT_PREFIX [--header_path HEADER_PATH]\r\n",
      "\r\n",
      "optional arguments:\r\n",
      "  -h, --help            show this help message and exit\r\n",
      "\r\n",
      "Required inputs:\r\n",
      "  --plate_info_paths PLATE_INFO_PATHS [PLATE_INFO_PATHS ...]\r\n",
      "                        Space separated paths of plate infos, at least one\r\n",
      "                        file should be provided. If multiple files provided,\r\n",
      "                        will check barcode compatibility. (default: None)\r\n",
      "  --output_prefix OUTPUT_PREFIX\r\n",
      "                        Output prefix, will generate 2 sample sheets, 1 for\r\n",
      "                        miseq, 1 for novaseq (default: None)\r\n",
      "\r\n",
      "Optional inputs:\r\n",
      "  --header_path HEADER_PATH\r\n",
      "                        Path to the sample sheet header that contains\r\n",
      "                        sequencer info. Will use default if not provided.\r\n",
      "                        (default: None)\r\n"
     ]
    }
   ],
   "source": [
    "!yap make-sample-sheet -h"
   ]
  },
  {
   "cell_type": "markdown",
   "metadata": {},
   "source": [
    "### Good example (V1 Example)\n",
    "\n",
    "#### plate_info.txt\n",
    "\n",
    "##### Library No.1"
   ]
  },
  {
   "cell_type": "code",
   "execution_count": 3,
   "metadata": {
    "ExecuteTime": {
     "end_time": "2019-07-13T05:09:42.209036Z",
     "start_time": "2019-07-13T05:09:42.199762Z"
    }
   },
   "outputs": [
    {
     "name": "stdout",
     "output_type": "stream",
     "text": [
      "[CriticalInfo]\n",
      "n_random_index=8\n",
      "input_plate_size=384\n",
      "pool_id=Pool_73\n",
      "tube_label=Pool_72_73_9A_10C\n",
      "email=hanliu@salk.edu\n",
      "[LibraryInfo]\n",
      "lib_comp_date=180101\n",
      "project=CEMBA\n",
      "organism=mm\n",
      "dev_stage_age=P56\n",
      "tissue_cell_type=1A\n",
      "exp_cond=1\n",
      "bio_rep=1\n",
      "tech_rep=1\n",
      "lib_type=snmC-seq2\n",
      "sequencer=NovaSeq\n",
      "se_pe=pe\n",
      "read_length=150\n",
      "requested_by=HL\n",
      "[PlateInfo]\n",
      "plate_id\tprimer_quarter\n",
      "CEMBA190530_9C_1\tSetB_Q1\n",
      "CEMBA190530_9C_2\tSetB_Q1\n",
      "CEMBA190530_9C_3\tSetB_Q2\n",
      "CEMBA190530_9C_4\tSetB_Q2\n",
      "CEMBA190620_9C_1\tSetB_Q3\n",
      "CEMBA190620_9C_2\tSetB_Q3\n",
      "CEMBA190620_9C_3\tSetB_Q4\n",
      "CEMBA190620_9C_4\tSetB_Q4\n"
     ]
    }
   ],
   "source": [
    "with open('plate_info.txt') as f:\n",
    "    for line in f:\n",
    "        line = line.strip()\n",
    "        if line.startswith('#') or line == '':\n",
    "            continue\n",
    "        print(line)"
   ]
  },
  {
   "cell_type": "markdown",
   "metadata": {},
   "source": [
    "##### Library No.2"
   ]
  },
  {
   "cell_type": "code",
   "execution_count": 4,
   "metadata": {
    "ExecuteTime": {
     "end_time": "2019-07-13T05:09:42.222572Z",
     "start_time": "2019-07-13T05:09:42.213924Z"
    }
   },
   "outputs": [
    {
     "name": "stdout",
     "output_type": "stream",
     "text": [
      "[CriticalInfo]\n",
      "n_random_index=8\n",
      "input_plate_size=384\n",
      "pool_id=Pool_73\n",
      "tube_label=Pool_72_73_9A_10C\n",
      "email=hanliu@salk.edu\n",
      "[LibraryInfo]\n",
      "lib_comp_date=200120\n",
      "project=CEMBA\n",
      "organism=mm\n",
      "dev_stage_age=P56\n",
      "tissue_cell_type=1A\n",
      "exp_cond=1\n",
      "bio_rep=1\n",
      "tech_rep=1\n",
      "lib_type=snmC-seq2\n",
      "sequencer=NovaSeq\n",
      "se_pe=pe\n",
      "read_length=150\n",
      "requested_by=HL\n",
      "[PlateInfo]\n",
      "plate_id\tprimer_quarter\n",
      "CEMBA200120_9T_1\tSet1_Q1\n",
      "CEMBA200120_9C_2\tSet1_Q1\n",
      "CEMBA200120_9C_3\tSet1_Q2\n",
      "CEMBA200120_9C_4\tSet1_Q2\n",
      "CEMBA200120_9C_1\tSet1_Q3\n",
      "CEMBA200120_9C_2\tSet1_Q3\n",
      "CEMBA200120_9C_3\tSet1_Q4\n",
      "CEMBA200120_9C_4\tSet1_Q4\n"
     ]
    }
   ],
   "source": [
    "with open('plate_info2.txt') as f:\n",
    "    for line in f:\n",
    "        line = line.strip()\n",
    "        if line.startswith('#') or line == '':\n",
    "            continue\n",
    "        print(line)"
   ]
  },
  {
   "cell_type": "markdown",
   "metadata": {},
   "source": [
    "#### Command\n",
    "- Can accept multiple plate_info.txt, once their barcode are compatible to each other.\n",
    "- The output is 2 sample sheet, one for miseq, one for novaseq"
   ]
  },
  {
   "cell_type": "code",
   "execution_count": 5,
   "metadata": {
    "ExecuteTime": {
     "end_time": "2019-07-13T05:09:43.951904Z",
     "start_time": "2019-07-13T05:09:42.227150Z"
    }
   },
   "outputs": [
    {
     "name": "stdout",
     "output_type": "stream",
     "text": [
      "# Executing make-sample-sheet...\n",
      "# make-sample-sheet finished.\n"
     ]
    }
   ],
   "source": [
    "!yap make-sample-sheet --plate_info_paths plate_info.txt plate_info2.txt --output_prefix Pool_EXAMPLE"
   ]
  },
  {
   "cell_type": "markdown",
   "metadata": {},
   "source": [
    "#### Results"
   ]
  },
  {
   "cell_type": "code",
   "execution_count": 6,
   "metadata": {
    "ExecuteTime": {
     "end_time": "2019-07-13T05:09:44.238604Z",
     "start_time": "2019-07-13T05:09:43.957632Z"
    }
   },
   "outputs": [
    {
     "name": "stdout",
     "output_type": "stream",
     "text": [
      "768\r\n"
     ]
    }
   ],
   "source": [
    "!cat Pool_EXAMPLE.miseq.sample_sheet.csv | grep CEMBA | wc -l"
   ]
  },
  {
   "cell_type": "code",
   "execution_count": 7,
   "metadata": {
    "ExecuteTime": {
     "end_time": "2019-07-13T05:09:44.520449Z",
     "start_time": "2019-07-13T05:09:44.243305Z"
    }
   },
   "outputs": [
    {
     "name": "stdout",
     "output_type": "stream",
     "text": [
      "[Header],,,,,,,,,,\r\n",
      "IEMFileVersion,4,,,,,,,,,\r\n",
      "Date,,,,,,,,,,\r\n",
      "Workflow,GenerateFASTQ,,,,,,,,,\r\n",
      "Application,HiSeq_FASTQ_Only,,,,,,,,,\r\n",
      "Assay,TruSeq_HT,,,,,,,,,\r\n",
      "Description,,,,,,,,,,\r\n",
      "Chemistry,,,,,,,,,,\r\n",
      ",,,,,,,,,,\r\n",
      "[Reads],,,,,,,,,,\r\n",
      "151,,,,,,,,,,\r\n",
      "151,,,,,,,,,,\r\n",
      ",,,,,,,,,,\r\n",
      "[Settings],,,,,,,,,,\r\n",
      "Adapter,AGATCGGAAGAGCACACGTCTGAACTCCAGTCA,,,,,,,,,\r\n",
      "AdapterRead2,AGATCGGAAGAGCGTCGTGTAGGGAAAGAGTGT,,,,,,,,,\r\n",
      ",,,,,,,,,,\r\n",
      "[Data],,,,,,,,,,\r\n",
      "Sample_ID,Sample_Name,Sample_Plate,Sample_Well,I7_Index_ID,index,I5_Index_ID,index2,Sample_Project,Description\r\n",
      "180101-CEMBA-mm-P56-1A-1-1-1-snmC-seq2-NovaSeq-pe-150-HL-CEMBA190530_9C_1-CEMBA190530_9C_2-A1,,Plate,,,CGTAGAACAG,,CTGTTAGCGG,Pool_72_73_9A_10C,hanliu@salk.edu\r\n",
      "180101-CEMBA-mm-P56-1A-1-1-1-snmC-seq2-NovaSeq-pe-150-HL-CEMBA190530_9C_1-CEMBA190530_9C_2-A2,,Plate,,,CTGGCATATT,,CGGAAGATAA,Pool_72_73_9A_10C,hanliu@salk.edu\r\n",
      "180101-CEMBA-mm-P56-1A-1-1-1-snmC-seq2-NovaSeq-pe-150-HL-CEMBA190530_9C_1-CEMBA190530_9C_2-A3,,Plate,,,AGAACCTCGC,,ACACTTCGTT,Pool_72_73_9A_10C,hanliu@salk.edu\r\n",
      "180101-CEMBA-mm-P56-1A-1-1-1-snmC-seq2-NovaSeq-pe-150-HL-CEMBA190530_9C_1-CEMBA190530_9C_2-A4,,Plate,,,TGTCGTTAAG,,CGTCGCTCAA,Pool_72_73_9A_10C,hanliu@salk.edu\r\n",
      "180101-CEMBA-mm-P56-1A-1-1-1-snmC-seq2-NovaSeq-pe-150-HL-CEMBA190530_9C_1-CEMBA190530_9C_2-A5,,Plate,,,CATACCGCTG,,ACTTGGCCGA,Pool_72_73_9A_10C,hanliu@salk.edu\r\n",
      "180101-CEMBA-mm-P56-1A-1-1-1-snmC-seq2-NovaSeq-pe-150-HL-CEMBA190530_9C_1-CEMBA190530_9C_2-A6,,Plate,,,CTTCAATAGC,,GATTGATTGC,Pool_72_73_9A_10C,hanliu@salk.edu\r\n"
     ]
    }
   ],
   "source": [
    "!head -n 25 Pool_EXAMPLE.miseq.sample_sheet.csv"
   ]
  },
  {
   "cell_type": "code",
   "execution_count": 8,
   "metadata": {
    "ExecuteTime": {
     "end_time": "2019-07-13T05:09:44.804121Z",
     "start_time": "2019-07-13T05:09:44.525330Z"
    }
   },
   "outputs": [
    {
     "name": "stdout",
     "output_type": "stream",
     "text": [
      "3072\r\n"
     ]
    }
   ],
   "source": [
    "!cat Pool_EXAMPLE.novaseq.sample_sheet.csv | grep CEMBA | wc -l"
   ]
  },
  {
   "cell_type": "code",
   "execution_count": 9,
   "metadata": {
    "ExecuteTime": {
     "end_time": "2019-07-13T05:09:45.088761Z",
     "start_time": "2019-07-13T05:09:44.808965Z"
    }
   },
   "outputs": [
    {
     "name": "stdout",
     "output_type": "stream",
     "text": [
      "[Header],,,,,,,,,,\r\n",
      "IEMFileVersion,4,,,,,,,,,\r\n",
      "Date,,,,,,,,,,\r\n",
      "Workflow,GenerateFASTQ,,,,,,,,,\r\n",
      "Application,HiSeq_FASTQ_Only,,,,,,,,,\r\n",
      "Assay,TruSeq_HT,,,,,,,,,\r\n",
      "Description,,,,,,,,,,\r\n",
      "Chemistry,,,,,,,,,,\r\n",
      ",,,,,,,,,,\r\n",
      "[Reads],,,,,,,,,,\r\n",
      "151,,,,,,,,,,\r\n",
      "151,,,,,,,,,,\r\n",
      ",,,,,,,,,,\r\n",
      "[Settings],,,,,,,,,,\r\n",
      "Adapter,AGATCGGAAGAGCACACGTCTGAACTCCAGTCA,,,,,,,,,\r\n",
      "AdapterRead2,AGATCGGAAGAGCGTCGTGTAGGGAAAGAGTGT,,,,,,,,,\r\n",
      ",,,,,,,,,,\r\n",
      "[Data],,,,,,,,,,\r\n",
      "Lane,Sample_ID,Sample_Name,Sample_Plate,Sample_Well,I7_Index_ID,index,I5_Index_ID,index2,Sample_Project,Description\r\n",
      "1,180101-CEMBA-mm-P56-1A-1-1-1-snmC-seq2-NovaSeq-pe-150-HL-CEMBA190530_9C_1-CEMBA190530_9C_2-A1,,Plate,,,CGTAGAACAG,,CTGTTAGCGG,Pool_72_73_9A_10C,hanliu@salk.edu\r\n",
      "1,180101-CEMBA-mm-P56-1A-1-1-1-snmC-seq2-NovaSeq-pe-150-HL-CEMBA190530_9C_1-CEMBA190530_9C_2-A2,,Plate,,,CTGGCATATT,,CGGAAGATAA,Pool_72_73_9A_10C,hanliu@salk.edu\r\n",
      "1,180101-CEMBA-mm-P56-1A-1-1-1-snmC-seq2-NovaSeq-pe-150-HL-CEMBA190530_9C_1-CEMBA190530_9C_2-A3,,Plate,,,AGAACCTCGC,,ACACTTCGTT,Pool_72_73_9A_10C,hanliu@salk.edu\r\n",
      "1,180101-CEMBA-mm-P56-1A-1-1-1-snmC-seq2-NovaSeq-pe-150-HL-CEMBA190530_9C_1-CEMBA190530_9C_2-A4,,Plate,,,TGTCGTTAAG,,CGTCGCTCAA,Pool_72_73_9A_10C,hanliu@salk.edu\r\n",
      "1,180101-CEMBA-mm-P56-1A-1-1-1-snmC-seq2-NovaSeq-pe-150-HL-CEMBA190530_9C_1-CEMBA190530_9C_2-A5,,Plate,,,CATACCGCTG,,ACTTGGCCGA,Pool_72_73_9A_10C,hanliu@salk.edu\r\n",
      "1,180101-CEMBA-mm-P56-1A-1-1-1-snmC-seq2-NovaSeq-pe-150-HL-CEMBA190530_9C_1-CEMBA190530_9C_2-A6,,Plate,,,CTTCAATAGC,,GATTGATTGC,Pool_72_73_9A_10C,hanliu@salk.edu\r\n"
     ]
    }
   ],
   "source": [
    "!head -n 25 Pool_EXAMPLE.novaseq.sample_sheet.csv"
   ]
  },
  {
   "cell_type": "markdown",
   "metadata": {},
   "source": [
    "### Bad example\n",
    "\n",
    "- Will check barcode compatibility, plate name uniqueness etc."
   ]
  },
  {
   "cell_type": "code",
   "execution_count": 10,
   "metadata": {
    "ExecuteTime": {
     "end_time": "2019-07-13T05:09:46.621338Z",
     "start_time": "2019-07-13T05:09:45.093507Z"
    }
   },
   "outputs": [
    {
     "name": "stdout",
     "output_type": "stream",
     "text": [
      "# Executing make-sample-sheet...\n",
      "Traceback (most recent call last):\n",
      "  File \"/gale/netapp/home/hanliu/anaconda3/bin/yap\", line 10, in <module>\n",
      "    sys.exit(main())\n",
      "  File \"/gale/netapp/home/hanliu/anaconda3/lib/python3.6/site-packages/cemba_data/__main__.py\", line 1261, in main\n",
      "    func(**args_vars)\n",
      "  File \"/gale/netapp/home/hanliu/anaconda3/lib/python3.6/site-packages/cemba_data/mapping/prepare_sample_sheet.py\", line 204, in make_sample_sheet\n",
      "    raise ValueError(f'{primer_quarter} have {n_plate} plates in the table, that is impossible.')\n",
      "ValueError: SetB_Q3 have 4 plates in the table, that is impossible.\n"
     ]
    }
   ],
   "source": [
    "!yap make-sample-sheet --plate_info_paths plate_info.txt plate_info.txt --output_prefix Pool_EXAMPLE"
   ]
  }
 ],
 "metadata": {
  "hide_input": false,
  "kernelspec": {
   "display_name": "Python 3",
   "language": "python",
   "name": "python3"
  },
  "language_info": {
   "codemirror_mode": {
    "name": "ipython",
    "version": 3
   },
   "file_extension": ".py",
   "mimetype": "text/x-python",
   "name": "python",
   "nbconvert_exporter": "python",
   "pygments_lexer": "ipython3",
   "version": "3.7.3"
  },
  "pycharm": {
   "stem_cell": {
    "cell_type": "raw",
    "metadata": {
     "collapsed": false
    },
    "source": []
   }
  },
  "toc": {
   "base_numbering": 1,
   "nav_menu": {},
   "number_sections": true,
   "sideBar": true,
   "skip_h1_title": true,
   "title_cell": "Table of Contents",
   "title_sidebar": "Contents",
   "toc_cell": true,
   "toc_position": {},
   "toc_section_display": true,
   "toc_window_display": true
  }
 },
 "nbformat": 4,
 "nbformat_minor": 2
}

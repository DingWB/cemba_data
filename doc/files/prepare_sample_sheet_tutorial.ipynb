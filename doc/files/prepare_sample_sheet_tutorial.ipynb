{
 "cells": [
  {
   "cell_type": "markdown",
   "metadata": {
    "toc": true
   },
   "source": [
    "<h1>Table of Contents<span class=\"tocSkip\"></span></h1>\n",
    "<div class=\"toc\"><ul class=\"toc-item\"><li><span><a href=\"#Step-1:-Prepare-a-plate_info.txt-file\" data-toc-modified-id=\"Step-1:-Prepare-a-plate_info.txt-file-1\"><span class=\"toc-item-num\">1&nbsp;&nbsp;</span>Step 1: Prepare a plate_info.txt file</a></span><ul class=\"toc-item\"><li><span><a href=\"#Get-plate_info.txt-template\" data-toc-modified-id=\"Get-plate_info.txt-template-1.1\"><span class=\"toc-item-num\">1.1&nbsp;&nbsp;</span>Get plate_info.txt template</a></span></li></ul></li><li><span><a href=\"#Step-2:-Run-yap\" data-toc-modified-id=\"Step-2:-Run-yap-2\"><span class=\"toc-item-num\">2&nbsp;&nbsp;</span>Step 2: Run yap</a></span><ul class=\"toc-item\"><li><span><a href=\"#Good-example\" data-toc-modified-id=\"Good-example-2.1\"><span class=\"toc-item-num\">2.1&nbsp;&nbsp;</span>Good example</a></span><ul class=\"toc-item\"><li><span><a href=\"#plate_info.txt\" data-toc-modified-id=\"plate_info.txt-2.1.1\"><span class=\"toc-item-num\">2.1.1&nbsp;&nbsp;</span>plate_info.txt</a></span><ul class=\"toc-item\"><li><span><a href=\"#Library-No.1\" data-toc-modified-id=\"Library-No.1-2.1.1.1\"><span class=\"toc-item-num\">2.1.1.1&nbsp;&nbsp;</span>Library No.1</a></span></li><li><span><a href=\"#Library-No.2\" data-toc-modified-id=\"Library-No.2-2.1.1.2\"><span class=\"toc-item-num\">2.1.1.2&nbsp;&nbsp;</span>Library No.2</a></span></li></ul></li><li><span><a href=\"#Command\" data-toc-modified-id=\"Command-2.1.2\"><span class=\"toc-item-num\">2.1.2&nbsp;&nbsp;</span>Command</a></span></li><li><span><a href=\"#Results\" data-toc-modified-id=\"Results-2.1.3\"><span class=\"toc-item-num\">2.1.3&nbsp;&nbsp;</span>Results</a></span></li></ul></li><li><span><a href=\"#Bad-example\" data-toc-modified-id=\"Bad-example-2.2\"><span class=\"toc-item-num\">2.2&nbsp;&nbsp;</span>Bad example</a></span></li></ul></li></ul></div>"
   ]
  },
  {
   "cell_type": "markdown",
   "metadata": {},
   "source": [
    "# Make Sample Sheet\n",
    "\n",
    "## Step 1: Prepare a plate_info.txt file\n",
    "- Right now, all we need for building sample sheet is the barcode set used by each plate\n",
    "- In the future, if we adding more kinds of barcode, I can update the code to support more, but this should be transparent to users. You just need to make a CORRECT plate_info.txt.\n",
    "\n",
    "### Get plate_info.txt template\n",
    "```shell\n",
    "yap default-plate-info\n",
    "```"
   ]
  },
  {
   "cell_type": "code",
   "execution_count": 4,
   "metadata": {
    "ExecuteTime": {
     "end_time": "2019-07-13T04:58:29.221403Z",
     "start_time": "2019-07-13T04:58:27.109453Z"
    }
   },
   "outputs": [
    {
     "name": "stdout",
     "output_type": "stream",
     "text": [
      "# Executing default-plate-info...\r\n",
      "#                               .__\r\n",
      "#   ___________    _____ ______ |  |   ____\r\n",
      "#  /  ___/\\__  \\  /     \\\\____ \\|  | _/ __ \\\r\n",
      "#  \\___ \\  / __ \\|  Y Y  \\  |_> >  |_\\  ___/\r\n",
      "# /____  >(____  /__|_|  /   __/|____/\\___  >\r\n",
      "#      \\/      \\/      \\/|__|             \\/\r\n",
      "#        .__                   __  ._.\r\n",
      "#   _____|  |__   ____   _____/  |_| |\r\n",
      "#  /  ___/  |  \\_/ __ \\_/ __ \\   __\\ |\r\n",
      "#  \\___ \\|   Y  \\  ___/\\  ___/|  |  \\|\r\n",
      "# /____  >___|  /\\___  >\\___  >__|  __\r\n",
      "#      \\/     \\/     \\/     \\/      \\/\r\n",
      "#\r\n",
      "# PlateInfo template of single cell sequencing\r\n",
      "#\r\n",
      "# This file template contain 3 sections.\r\n",
      "#\r\n",
      "# [CriticalInfo]\r\n",
      "# [LibraryInfo]\r\n",
      "# [PlateInfo]\r\n",
      "#\r\n",
      "# The final sample id will be values of each part concatenated by \"-\" in the following order\r\n",
      "# [Values in LibraryInfo] + [Additional values in PlateInfo] + [Sample UID determined by library strategy]\r\n",
      "#\r\n",
      "# Empty lines and line start with \"#\" will be ignored. You can remove these if you understand the template.\r\n",
      "#\r\n",
      "\r\n",
      "\r\n",
      "# =====================================================================================================\r\n",
      "\r\n",
      "[CriticalInfo]\r\n",
      "\r\n",
      "# =====================================================================================================\r\n",
      "\r\n",
      "# Explain:\r\n",
      "# Every key=value paires are required. key name can not be change.\r\n",
      "# Some values have limited options, they are:\r\n",
      "# n_random_index chioces: 8, 384\r\n",
      "# input_plate_size choices: 384, 1536\r\n",
      "#\r\n",
      "#\r\n",
      "# Example:\r\n",
      "# n_random_index=8\r\n",
      "# input_plate_size=384\r\n",
      "# pool_id=Pool_73\r\n",
      "# tube_label=Pool_72_73_9A_10C\r\n",
      "# email=your-email@salk.edu\r\n",
      "#\r\n",
      "\r\n",
      "n_random_index=8\r\n",
      "input_plate_size=384\r\n",
      "pool_id=\r\n",
      "tube_label=\r\n",
      "email=\r\n",
      "\r\n",
      "\r\n",
      "\r\n",
      "\r\n",
      "\r\n",
      "# =====================================================================================================\r\n",
      "\r\n",
      "[LibraryInfo]\r\n",
      "\r\n",
      "# =====================================================================================================\r\n",
      "#\r\n",
      "# Explain:\r\n",
      "# library metadata that applies to all plates\r\n",
      "# this whole part is optional, may contain any \"key=value\" paires necessary to describe the library.\r\n",
      "# All the values will be concatenate by \"-\" into the sample id and present in file name.\r\n",
      "# So better not to include \"-\" in value and use UNIX path safe characters.\r\n",
      "# Here are the typical information to include, you can define your own:\r\n",
      "#\r\n",
      "# Example:\r\n",
      "# lib_comp_date=180101\r\n",
      "# project=CEMBA\r\n",
      "# organism=mm\r\n",
      "# dev_stage_age=P56\r\n",
      "# tissue_cell_type=1A\r\n",
      "# exp_cond=1\r\n",
      "# bio_rep=1\r\n",
      "# tech_rep=1\r\n",
      "# lib_type=snmC-seq2\r\n",
      "# sequencer=NovaSeq\r\n",
      "# se_pe=pe\r\n",
      "# read_length=150\r\n",
      "# requested_by=HL\r\n",
      "#\r\n",
      "# these keys are just recommeded, not required, but better be consistant throughout the project.\r\n",
      "\r\n",
      "\r\n",
      "\r\n",
      "\r\n",
      "\r\n",
      "# =====================================================================================================\r\n",
      "\r\n",
      "[PlateInfo]\r\n",
      "\r\n",
      "# =====================================================================================================\r\n",
      "\r\n",
      "# Explain:\r\n",
      "# Plate metadata that specific to certain plates, a tab separated table\r\n",
      "# First row must be header start with: plate_id\tprimer_quarter\r\n",
      "# First 2 columns are required and must be in the order of: plate_id\tprimer_quarter\r\n",
      "# You can add more plate specific info into additional columns, those info will be appened to LibraryInfo as part of sample_id.\r\n",
      "# All the values will be concatenate by \"-\" into the sample id and present in file name.\r\n",
      "# So better not to include \"-\" in value and use UNIX path safe characters.\r\n",
      "#\r\n",
      "# Example:\r\n",
      "# plate_id\tprimer_quarter\r\n",
      "# CEMBA190530_9C_1\tSetB_Q1\r\n",
      "# CEMBA190530_9C_2\tSetB_Q1\r\n",
      "# CEMBA190530_9C_3\tSetB_Q2\r\n",
      "# CEMBA190530_9C_4\tSetB_Q2\r\n",
      "# CEMBA190620_9C_1\tSetB_Q3\r\n",
      "# CEMBA190620_9C_2\tSetB_Q3\r\n",
      "# CEMBA190620_9C_3\tSetB_Q4\r\n",
      "# CEMBA190620_9C_4\tSetB_Q4\r\n",
      "\r\n",
      "\r\n",
      "plate_id\tprimer_quarter\r\n",
      "\r\n",
      "\r\n",
      "\r\n",
      "\r\n",
      "# default-plate-info finished.\r\n"
     ]
    }
   ],
   "source": [
    "!yap default-plate-info"
   ]
  },
  {
   "cell_type": "markdown",
   "metadata": {},
   "source": [
    "## Step 2: Run yap\n",
    "\n",
    "```shell\n",
    "yap make-sample-sheet [-h] --plate_info_paths PLATE_INFO_PATHS\n",
    "                             [PLATE_INFO_PATHS ...] --output_prefix\n",
    "                             OUTPUT_PREFIX [--header_path HEADER_PATH]\n",
    "```"
   ]
  },
  {
   "cell_type": "code",
   "execution_count": 6,
   "metadata": {
    "ExecuteTime": {
     "end_time": "2019-07-13T04:59:39.910448Z",
     "start_time": "2019-07-13T04:59:39.345752Z"
    }
   },
   "outputs": [
    {
     "name": "stdout",
     "output_type": "stream",
     "text": [
      "usage: yap make-sample-sheet [-h] --plate_info_paths PLATE_INFO_PATHS\r\n",
      "                             [PLATE_INFO_PATHS ...] --output_prefix\r\n",
      "                             OUTPUT_PREFIX [--header_path HEADER_PATH]\r\n",
      "\r\n",
      "optional arguments:\r\n",
      "  -h, --help            show this help message and exit\r\n",
      "\r\n",
      "Required inputs:\r\n",
      "  --plate_info_paths PLATE_INFO_PATHS [PLATE_INFO_PATHS ...]\r\n",
      "                        Space separated paths of plate infos, at least one\r\n",
      "                        file should be provided. If multiple files provided,\r\n",
      "                        will check barcode compatibility. (default: None)\r\n",
      "  --output_prefix OUTPUT_PREFIX\r\n",
      "                        Output prefix, will generate 2 sample sheets, 1 for\r\n",
      "                        miseq, 1 for novaseq (default: None)\r\n",
      "\r\n",
      "Optional inputs:\r\n",
      "  --header_path HEADER_PATH\r\n",
      "                        Path to the sample sheet header that contains\r\n",
      "                        sequencer info. Will use default if not provided.\r\n",
      "                        (default: None)\r\n"
     ]
    }
   ],
   "source": [
    "!yap make-sample-sheet -h"
   ]
  },
  {
   "cell_type": "markdown",
   "metadata": {},
   "source": [
    "### Good example\n",
    "\n",
    "#### plate_info.txt\n",
    "\n",
    "##### Library No.1"
   ]
  },
  {
   "cell_type": "code",
   "execution_count": 10,
   "metadata": {
    "ExecuteTime": {
     "end_time": "2019-07-13T05:01:34.169264Z",
     "start_time": "2019-07-13T05:01:34.160166Z"
    }
   },
   "outputs": [
    {
     "name": "stdout",
     "output_type": "stream",
     "text": [
      "[CriticalInfo]\n",
      "n_random_index=8\n",
      "input_plate_size=384\n",
      "pool_id=Pool_73\n",
      "tube_label=Pool_72_73_9A_10C\n",
      "email=hanliu@salk.edu\n",
      "[LibraryInfo]\n",
      "lib_comp_date=180101\n",
      "project=CEMBA\n",
      "organism=mm\n",
      "dev_stage_age=P56\n",
      "tissue_cell_type=1A\n",
      "exp_cond=1\n",
      "bio_rep=1\n",
      "tech_rep=1\n",
      "lib_type=snmC-seq2\n",
      "sequencer=NovaSeq\n",
      "se_pe=pe\n",
      "read_length=150\n",
      "requested_by=HL\n",
      "[PlateInfo]\n",
      "plate_id\tprimer_quarter\n",
      "CEMBA190530_9C_1\tSetB_Q1\n",
      "CEMBA190530_9C_2\tSetB_Q1\n",
      "CEMBA190530_9C_3\tSetB_Q2\n",
      "CEMBA190530_9C_4\tSetB_Q2\n",
      "CEMBA190620_9C_1\tSetB_Q3\n",
      "CEMBA190620_9C_2\tSetB_Q3\n",
      "CEMBA190620_9C_3\tSetB_Q4\n",
      "CEMBA190620_9C_4\tSetB_Q4\n"
     ]
    }
   ],
   "source": [
    "with open('plate_info.txt') as f:\n",
    "    for line in f:\n",
    "        line = line.strip()\n",
    "        if line.startswith('#') or line == '':\n",
    "            continue\n",
    "        print(line)"
   ]
  },
  {
   "cell_type": "markdown",
   "metadata": {},
   "source": [
    "##### Library No.2"
   ]
  },
  {
   "cell_type": "code",
   "execution_count": 33,
   "metadata": {
    "ExecuteTime": {
     "end_time": "2019-07-13T05:08:20.448483Z",
     "start_time": "2019-07-13T05:08:20.438326Z"
    }
   },
   "outputs": [
    {
     "name": "stdout",
     "output_type": "stream",
     "text": [
      "[CriticalInfo]\n",
      "n_random_index=8\n",
      "input_plate_size=384\n",
      "pool_id=Pool_73\n",
      "tube_label=Pool_72_73_9A_10C\n",
      "email=hanliu@salk.edu\n",
      "[LibraryInfo]\n",
      "lib_comp_date=180101\n",
      "project=CEMBA\n",
      "organism=mm\n",
      "dev_stage_age=P56\n",
      "tissue_cell_type=1A\n",
      "exp_cond=1\n",
      "bio_rep=1\n",
      "tech_rep=1\n",
      "lib_type=snmC-seq2\n",
      "sequencer=NovaSeq\n",
      "se_pe=pe\n",
      "read_length=150\n",
      "requested_by=HL\n",
      "[PlateInfo]\n",
      "plate_id\tprimer_quarter\n",
      "CEMBA190530_9C_1\tSet1_Q1\n",
      "CEMBA190530_9C_2\tSet1_Q1\n",
      "CEMBA190530_9C_3\tSet1_Q2\n",
      "CEMBA190530_9C_4\tSet1_Q2\n",
      "CEMBA190620_9C_1\tSet1_Q3\n",
      "CEMBA190620_9C_2\tSet1_Q3\n",
      "CEMBA190620_9C_3\tSet1_Q4\n",
      "CEMBA190620_9C_4\tSet1_Q4\n"
     ]
    }
   ],
   "source": [
    "with open('plate_info2.txt') as f:\n",
    "    for line in f:\n",
    "        line = line.strip()\n",
    "        if line.startswith('#') or line == '':\n",
    "            continue\n",
    "        print(line)"
   ]
  },
  {
   "cell_type": "markdown",
   "metadata": {},
   "source": [
    "#### Command\n",
    "- Can accept multiple plate_info.txt, once their barcode are compatible to each other.\n",
    "- The output is 2 sample sheet, one for miseq, one for novaseq"
   ]
  },
  {
   "cell_type": "code",
   "execution_count": 26,
   "metadata": {
    "ExecuteTime": {
     "end_time": "2019-07-13T05:05:28.338202Z",
     "start_time": "2019-07-13T05:05:25.850394Z"
    }
   },
   "outputs": [
    {
     "name": "stdout",
     "output_type": "stream",
     "text": [
      "# Executing make-sample-sheet...\n",
      "# make-sample-sheet finished.\n"
     ]
    }
   ],
   "source": [
    "!yap make-sample-sheet --plate_info_paths plate_info.txt plate_info2.txt --output_prefix Pool_72_73_9A_10C"
   ]
  },
  {
   "cell_type": "markdown",
   "metadata": {},
   "source": [
    "#### Results"
   ]
  },
  {
   "cell_type": "code",
   "execution_count": 27,
   "metadata": {
    "ExecuteTime": {
     "end_time": "2019-07-13T05:05:29.322947Z",
     "start_time": "2019-07-13T05:05:29.034493Z"
    }
   },
   "outputs": [
    {
     "name": "stdout",
     "output_type": "stream",
     "text": [
      "768\r\n"
     ]
    }
   ],
   "source": [
    "!cat Pool_72_73_9A_10C.miseq.sample_sheet.csv | grep CEMBA | wc -l"
   ]
  },
  {
   "cell_type": "code",
   "execution_count": 28,
   "metadata": {
    "ExecuteTime": {
     "end_time": "2019-07-13T05:05:29.964744Z",
     "start_time": "2019-07-13T05:05:29.685859Z"
    }
   },
   "outputs": [
    {
     "name": "stdout",
     "output_type": "stream",
     "text": [
      "[Header],,,,,,,,,,\r\n",
      "IEMFileVersion,4,,,,,,,,,\r\n",
      "Date,,,,,,,,,,\r\n",
      "Workflow,GenerateFASTQ,,,,,,,,,\r\n",
      "Application,HiSeq_FASTQ_Only,,,,,,,,,\r\n",
      "Assay,TruSeq_HT,,,,,,,,,\r\n",
      "Description,,,,,,,,,,\r\n",
      "Chemistry,,,,,,,,,,\r\n",
      ",,,,,,,,,,\r\n",
      "[Reads],,,,,,,,,,\r\n",
      "151,,,,,,,,,,\r\n",
      "151,,,,,,,,,,\r\n",
      ",,,,,,,,,,\r\n",
      "[Settings],,,,,,,,,,\r\n",
      "Adapter,AGATCGGAAGAGCACACGTCTGAACTCCAGTCA,,,,,,,,,\r\n",
      "AdapterRead2,AGATCGGAAGAGCGTCGTGTAGGGAAAGAGTGT,,,,,,,,,\r\n",
      ",,,,,,,,,,\r\n",
      "[Data],,,,,,,,,,\r\n",
      "Sample_ID,Sample_Name,Sample_Plate,Sample_Well,I7_Index_ID,index,I5_Index_ID,index2,Sample_Project,Description\r\n",
      "180101-CEMBA-mm-P56-1A-1-1-1-snmC-seq2-NovaSeq-pe-150-HL-CEMBA190530_9C_1-CEMBA190530_9C_2-A1,,Plate,,,CGTAGAACAG,,CTGTTAGCGG,Pool_72_73_9A_10C,hanliu@salk.edu\r\n",
      "180101-CEMBA-mm-P56-1A-1-1-1-snmC-seq2-NovaSeq-pe-150-HL-CEMBA190530_9C_1-CEMBA190530_9C_2-A2,,Plate,,,CTGGCATATT,,CGGAAGATAA,Pool_72_73_9A_10C,hanliu@salk.edu\r\n",
      "180101-CEMBA-mm-P56-1A-1-1-1-snmC-seq2-NovaSeq-pe-150-HL-CEMBA190530_9C_1-CEMBA190530_9C_2-A3,,Plate,,,AGAACCTCGC,,ACACTTCGTT,Pool_72_73_9A_10C,hanliu@salk.edu\r\n",
      "180101-CEMBA-mm-P56-1A-1-1-1-snmC-seq2-NovaSeq-pe-150-HL-CEMBA190530_9C_1-CEMBA190530_9C_2-A4,,Plate,,,TGTCGTTAAG,,CGTCGCTCAA,Pool_72_73_9A_10C,hanliu@salk.edu\r\n",
      "180101-CEMBA-mm-P56-1A-1-1-1-snmC-seq2-NovaSeq-pe-150-HL-CEMBA190530_9C_1-CEMBA190530_9C_2-A5,,Plate,,,CATACCGCTG,,ACTTGGCCGA,Pool_72_73_9A_10C,hanliu@salk.edu\r\n",
      "180101-CEMBA-mm-P56-1A-1-1-1-snmC-seq2-NovaSeq-pe-150-HL-CEMBA190530_9C_1-CEMBA190530_9C_2-A6,,Plate,,,CTTCAATAGC,,GATTGATTGC,Pool_72_73_9A_10C,hanliu@salk.edu\r\n"
     ]
    }
   ],
   "source": [
    "!head -n 25 Pool_72_73_9A_10C.miseq.sample_sheet.csv"
   ]
  },
  {
   "cell_type": "code",
   "execution_count": 29,
   "metadata": {
    "ExecuteTime": {
     "end_time": "2019-07-13T05:05:30.836778Z",
     "start_time": "2019-07-13T05:05:30.549429Z"
    }
   },
   "outputs": [
    {
     "name": "stdout",
     "output_type": "stream",
     "text": [
      "3072\r\n"
     ]
    }
   ],
   "source": [
    "!cat Pool_72_73_9A_10C.novaseq.sample_sheet.csv | grep CEMBA | wc -l"
   ]
  },
  {
   "cell_type": "code",
   "execution_count": 30,
   "metadata": {
    "ExecuteTime": {
     "end_time": "2019-07-13T05:05:31.300296Z",
     "start_time": "2019-07-13T05:05:31.023069Z"
    }
   },
   "outputs": [
    {
     "name": "stdout",
     "output_type": "stream",
     "text": [
      "[Header],,,,,,,,,,\r\n",
      "IEMFileVersion,4,,,,,,,,,\r\n",
      "Date,,,,,,,,,,\r\n",
      "Workflow,GenerateFASTQ,,,,,,,,,\r\n",
      "Application,HiSeq_FASTQ_Only,,,,,,,,,\r\n",
      "Assay,TruSeq_HT,,,,,,,,,\r\n",
      "Description,,,,,,,,,,\r\n",
      "Chemistry,,,,,,,,,,\r\n",
      ",,,,,,,,,,\r\n",
      "[Reads],,,,,,,,,,\r\n",
      "151,,,,,,,,,,\r\n",
      "151,,,,,,,,,,\r\n",
      ",,,,,,,,,,\r\n",
      "[Settings],,,,,,,,,,\r\n",
      "Adapter,AGATCGGAAGAGCACACGTCTGAACTCCAGTCA,,,,,,,,,\r\n",
      "AdapterRead2,AGATCGGAAGAGCGTCGTGTAGGGAAAGAGTGT,,,,,,,,,\r\n",
      ",,,,,,,,,,\r\n",
      "[Data],,,,,,,,,,\r\n",
      "Lane,Sample_ID,Sample_Name,Sample_Plate,Sample_Well,I7_Index_ID,index,I5_Index_ID,index2,Sample_Project,Description\r\n",
      "1,180101-CEMBA-mm-P56-1A-1-1-1-snmC-seq2-NovaSeq-pe-150-HL-CEMBA190530_9C_1-CEMBA190530_9C_2-A1,,Plate,,,CGTAGAACAG,,CTGTTAGCGG,Pool_72_73_9A_10C,hanliu@salk.edu\r\n",
      "1,180101-CEMBA-mm-P56-1A-1-1-1-snmC-seq2-NovaSeq-pe-150-HL-CEMBA190530_9C_1-CEMBA190530_9C_2-A2,,Plate,,,CTGGCATATT,,CGGAAGATAA,Pool_72_73_9A_10C,hanliu@salk.edu\r\n",
      "1,180101-CEMBA-mm-P56-1A-1-1-1-snmC-seq2-NovaSeq-pe-150-HL-CEMBA190530_9C_1-CEMBA190530_9C_2-A3,,Plate,,,AGAACCTCGC,,ACACTTCGTT,Pool_72_73_9A_10C,hanliu@salk.edu\r\n",
      "1,180101-CEMBA-mm-P56-1A-1-1-1-snmC-seq2-NovaSeq-pe-150-HL-CEMBA190530_9C_1-CEMBA190530_9C_2-A4,,Plate,,,TGTCGTTAAG,,CGTCGCTCAA,Pool_72_73_9A_10C,hanliu@salk.edu\r\n",
      "1,180101-CEMBA-mm-P56-1A-1-1-1-snmC-seq2-NovaSeq-pe-150-HL-CEMBA190530_9C_1-CEMBA190530_9C_2-A5,,Plate,,,CATACCGCTG,,ACTTGGCCGA,Pool_72_73_9A_10C,hanliu@salk.edu\r\n",
      "1,180101-CEMBA-mm-P56-1A-1-1-1-snmC-seq2-NovaSeq-pe-150-HL-CEMBA190530_9C_1-CEMBA190530_9C_2-A6,,Plate,,,CTTCAATAGC,,GATTGATTGC,Pool_72_73_9A_10C,hanliu@salk.edu\r\n"
     ]
    }
   ],
   "source": [
    "!head -n 25 Pool_72_73_9A_10C.novaseq.sample_sheet.csv"
   ]
  },
  {
   "cell_type": "markdown",
   "metadata": {},
   "source": [
    "### Bad example\n",
    "\n",
    "- Will check barcode compatibility, plate name uniqueness etc."
   ]
  },
  {
   "cell_type": "code",
   "execution_count": 31,
   "metadata": {
    "ExecuteTime": {
     "end_time": "2019-07-13T05:05:39.075127Z",
     "start_time": "2019-07-13T05:05:37.516183Z"
    }
   },
   "outputs": [
    {
     "name": "stdout",
     "output_type": "stream",
     "text": [
      "# Executing make-sample-sheet...\n",
      "Traceback (most recent call last):\n",
      "  File \"/gale/netapp/home/hanliu/anaconda3/bin/yap\", line 10, in <module>\n",
      "    sys.exit(main())\n",
      "  File \"/gale/netapp/home/hanliu/anaconda3/lib/python3.6/site-packages/cemba_data/__main__.py\", line 1261, in main\n",
      "    func(**args_vars)\n",
      "  File \"/gale/netapp/home/hanliu/anaconda3/lib/python3.6/site-packages/cemba_data/mapping/prepare_sample_sheet.py\", line 204, in make_sample_sheet\n",
      "    raise ValueError(f'{primer_quarter} have {n_plate} plates in the table, that is impossible.')\n",
      "ValueError: SetB_Q3 have 4 plates in the table, that is impossible.\n"
     ]
    }
   ],
   "source": [
    "!yap make-sample-sheet --plate_info_paths plate_info.txt plate_info.txt --output_prefix Pool_72_73_9A_10C"
   ]
  },
  {
   "cell_type": "code",
   "execution_count": null,
   "metadata": {},
   "outputs": [],
   "source": []
  },
  {
   "cell_type": "code",
   "execution_count": null,
   "metadata": {},
   "outputs": [],
   "source": []
  },
  {
   "cell_type": "code",
   "execution_count": null,
   "metadata": {},
   "outputs": [],
   "source": []
  },
  {
   "cell_type": "code",
   "execution_count": null,
   "metadata": {},
   "outputs": [],
   "source": []
  }
 ],
 "metadata": {
  "kernelspec": {
   "display_name": "Python 3",
   "language": "python",
   "name": "python3"
  },
  "language_info": {
   "codemirror_mode": {
    "name": "ipython",
    "version": 3
   },
   "file_extension": ".py",
   "mimetype": "text/x-python",
   "name": "python",
   "nbconvert_exporter": "python",
   "pygments_lexer": "ipython3",
   "version": "3.6.5"
  },
  "toc": {
   "base_numbering": 1,
   "nav_menu": {},
   "number_sections": true,
   "sideBar": true,
   "skip_h1_title": true,
   "title_cell": "Table of Contents",
   "title_sidebar": "Contents",
   "toc_cell": true,
   "toc_position": {},
   "toc_section_display": true,
   "toc_window_display": true
  }
 },
 "nbformat": 4,
 "nbformat_minor": 2
}

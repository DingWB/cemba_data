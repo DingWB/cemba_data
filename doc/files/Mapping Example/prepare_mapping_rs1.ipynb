{
 "cells": [
  {
   "cell_type": "markdown",
   "metadata": {
    "toc": true
   },
   "source": [
    "<h1>Table of Contents<span class=\"tocSkip\"></span></h1>\n",
    "<div class=\"toc\"><ul class=\"toc-item\"><li><span><a href=\"#MODIFY-PROJECT-NAME-FIRST\" data-toc-modified-id=\"MODIFY-PROJECT-NAME-FIRST-1\"><span class=\"toc-item-num\">1&nbsp;&nbsp;</span>MODIFY PROJECT NAME FIRST</a></span></li><li><span><a href=\"#Prepare-Fastq-dataframe\" data-toc-modified-id=\"Prepare-Fastq-dataframe-2\"><span class=\"toc-item-num\">2&nbsp;&nbsp;</span>Prepare Fastq dataframe</a></span></li><li><span><a href=\"#prepare-qsub-commands\" data-toc-modified-id=\"prepare-qsub-commands-3\"><span class=\"toc-item-num\">3&nbsp;&nbsp;</span>prepare qsub commands</a></span><ul class=\"toc-item\"><li><span><a href=\"#use-yap-mapping-qsub\" data-toc-modified-id=\"use-yap-mapping-qsub-3.1\"><span class=\"toc-item-num\">3.1&nbsp;&nbsp;</span>use yap mapping-qsub</a></span></li><li><span><a href=\"#adjust-config-file\" data-toc-modified-id=\"adjust-config-file-3.2\"><span class=\"toc-item-num\">3.2&nbsp;&nbsp;</span>adjust config file</a></span></li></ul></li></ul></div>"
   ]
  },
  {
   "cell_type": "markdown",
   "metadata": {},
   "source": [
    "## MODIFY PROJECT NAME FIRST"
   ]
  },
  {
   "cell_type": "code",
   "execution_count": 1,
   "metadata": {
    "ExecuteTime": {
     "end_time": "2019-04-15T22:18:15.929535Z",
     "start_time": "2019-04-15T22:18:15.924762Z"
    }
   },
   "outputs": [],
   "source": [
    "project_name = '6D'\n",
    "file_path_pattern = f'/gale/raidix/rdx-2/illumina_runs/190319_A00280_0044_AHJKV5DSXX_190322222226/Pool_AA_59/*{project_name}*fastq.gz'"
   ]
  },
  {
   "cell_type": "markdown",
   "metadata": {},
   "source": [
    "## Prepare Fastq dataframe"
   ]
  },
  {
   "cell_type": "code",
   "execution_count": 2,
   "metadata": {
    "ExecuteTime": {
     "end_time": "2019-04-15T22:18:18.335124Z",
     "start_time": "2019-04-15T22:18:16.864543Z"
    }
   },
   "outputs": [],
   "source": [
    "from cemba_data.local.mc.prepare_allc import make_fastq_dataframe"
   ]
  },
  {
   "cell_type": "code",
   "execution_count": 3,
   "metadata": {
    "ExecuteTime": {
     "end_time": "2019-04-15T22:18:21.327645Z",
     "start_time": "2019-04-15T22:18:18.340207Z"
    }
   },
   "outputs": [],
   "source": [
    "fastq_df = make_fastq_dataframe(\n",
    "    file_path=file_path_pattern,\n",
    "    name_pattern='date_project1_species_age_project2_plate-date1_plate-id1_plate-num1_plate-date2_plate-id2_plate-num2_plate-pos_*_seq-tech_seq-machine_seq-type_seq-length_*_suid_lane_read-type_*',\n",
    "    uid_field='plate-date1_plate-id1_plate-num1_plate-date2_plate-id2_plate-num2_plate-pos',\n",
    "    lane_field='lane', \n",
    "    read_type_field='read-type',\n",
    "    out_dir=None\n",
    ")"
   ]
  },
  {
   "cell_type": "code",
   "execution_count": 4,
   "metadata": {
    "ExecuteTime": {
     "end_time": "2019-04-15T22:18:21.386631Z",
     "start_time": "2019-04-15T22:18:21.330617Z"
    }
   },
   "outputs": [
    {
     "name": "stdout",
     "output_type": "stream",
     "text": [
      "(3072, 21)\n"
     ]
    },
    {
     "data": {
      "text/html": [
       "<div>\n",
       "<style scoped>\n",
       "    .dataframe tbody tr th:only-of-type {\n",
       "        vertical-align: middle;\n",
       "    }\n",
       "\n",
       "    .dataframe tbody tr th {\n",
       "        vertical-align: top;\n",
       "    }\n",
       "\n",
       "    .dataframe thead th {\n",
       "        text-align: right;\n",
       "    }\n",
       "</style>\n",
       "<table border=\"1\" class=\"dataframe\">\n",
       "  <thead>\n",
       "    <tr style=\"text-align: right;\">\n",
       "      <th></th>\n",
       "      <th>date</th>\n",
       "      <th>project1</th>\n",
       "      <th>species</th>\n",
       "      <th>age</th>\n",
       "      <th>project2</th>\n",
       "      <th>plate-date1</th>\n",
       "      <th>plate-id1</th>\n",
       "      <th>plate-num1</th>\n",
       "      <th>plate-date2</th>\n",
       "      <th>plate-id2</th>\n",
       "      <th>...</th>\n",
       "      <th>plate-pos</th>\n",
       "      <th>seq-tech</th>\n",
       "      <th>seq-machine</th>\n",
       "      <th>seq-type</th>\n",
       "      <th>seq-length</th>\n",
       "      <th>suid</th>\n",
       "      <th>lane</th>\n",
       "      <th>fastq_path</th>\n",
       "      <th>uid</th>\n",
       "      <th>read_type</th>\n",
       "    </tr>\n",
       "  </thead>\n",
       "  <tbody>\n",
       "    <tr>\n",
       "      <th>0</th>\n",
       "      <td>190228</td>\n",
       "      <td>CEMBA</td>\n",
       "      <td>mm</td>\n",
       "      <td>P56-P63</td>\n",
       "      <td>6D</td>\n",
       "      <td>CEMBA190131</td>\n",
       "      <td>6D</td>\n",
       "      <td>1</td>\n",
       "      <td>CEMBA190131</td>\n",
       "      <td>6D</td>\n",
       "      <td>...</td>\n",
       "      <td>A1</td>\n",
       "      <td>snmCseq</td>\n",
       "      <td>Novaseq</td>\n",
       "      <td>pe</td>\n",
       "      <td>150</td>\n",
       "      <td>S385</td>\n",
       "      <td>L001</td>\n",
       "      <td>/gale/raidix/rdx-2/illumina_runs/190319_A00280...</td>\n",
       "      <td>CEMBA190131-6D-1-CEMBA190131-6D-2-A1</td>\n",
       "      <td>R1</td>\n",
       "    </tr>\n",
       "    <tr>\n",
       "      <th>1</th>\n",
       "      <td>190228</td>\n",
       "      <td>CEMBA</td>\n",
       "      <td>mm</td>\n",
       "      <td>P56-P63</td>\n",
       "      <td>6D</td>\n",
       "      <td>CEMBA190131</td>\n",
       "      <td>6D</td>\n",
       "      <td>1</td>\n",
       "      <td>CEMBA190131</td>\n",
       "      <td>6D</td>\n",
       "      <td>...</td>\n",
       "      <td>A1</td>\n",
       "      <td>snmCseq</td>\n",
       "      <td>Novaseq</td>\n",
       "      <td>pe</td>\n",
       "      <td>150</td>\n",
       "      <td>S385</td>\n",
       "      <td>L001</td>\n",
       "      <td>/gale/raidix/rdx-2/illumina_runs/190319_A00280...</td>\n",
       "      <td>CEMBA190131-6D-1-CEMBA190131-6D-2-A1</td>\n",
       "      <td>R2</td>\n",
       "    </tr>\n",
       "    <tr>\n",
       "      <th>2</th>\n",
       "      <td>190228</td>\n",
       "      <td>CEMBA</td>\n",
       "      <td>mm</td>\n",
       "      <td>P56-P63</td>\n",
       "      <td>6D</td>\n",
       "      <td>CEMBA190131</td>\n",
       "      <td>6D</td>\n",
       "      <td>1</td>\n",
       "      <td>CEMBA190131</td>\n",
       "      <td>6D</td>\n",
       "      <td>...</td>\n",
       "      <td>A2</td>\n",
       "      <td>snmCseq</td>\n",
       "      <td>Novaseq</td>\n",
       "      <td>pe</td>\n",
       "      <td>150</td>\n",
       "      <td>S386</td>\n",
       "      <td>L001</td>\n",
       "      <td>/gale/raidix/rdx-2/illumina_runs/190319_A00280...</td>\n",
       "      <td>CEMBA190131-6D-1-CEMBA190131-6D-2-A2</td>\n",
       "      <td>R1</td>\n",
       "    </tr>\n",
       "    <tr>\n",
       "      <th>3</th>\n",
       "      <td>190228</td>\n",
       "      <td>CEMBA</td>\n",
       "      <td>mm</td>\n",
       "      <td>P56-P63</td>\n",
       "      <td>6D</td>\n",
       "      <td>CEMBA190131</td>\n",
       "      <td>6D</td>\n",
       "      <td>1</td>\n",
       "      <td>CEMBA190131</td>\n",
       "      <td>6D</td>\n",
       "      <td>...</td>\n",
       "      <td>A2</td>\n",
       "      <td>snmCseq</td>\n",
       "      <td>Novaseq</td>\n",
       "      <td>pe</td>\n",
       "      <td>150</td>\n",
       "      <td>S386</td>\n",
       "      <td>L001</td>\n",
       "      <td>/gale/raidix/rdx-2/illumina_runs/190319_A00280...</td>\n",
       "      <td>CEMBA190131-6D-1-CEMBA190131-6D-2-A2</td>\n",
       "      <td>R2</td>\n",
       "    </tr>\n",
       "    <tr>\n",
       "      <th>4</th>\n",
       "      <td>190228</td>\n",
       "      <td>CEMBA</td>\n",
       "      <td>mm</td>\n",
       "      <td>P56-P63</td>\n",
       "      <td>6D</td>\n",
       "      <td>CEMBA190131</td>\n",
       "      <td>6D</td>\n",
       "      <td>1</td>\n",
       "      <td>CEMBA190131</td>\n",
       "      <td>6D</td>\n",
       "      <td>...</td>\n",
       "      <td>A3</td>\n",
       "      <td>snmCseq</td>\n",
       "      <td>Novaseq</td>\n",
       "      <td>pe</td>\n",
       "      <td>150</td>\n",
       "      <td>S387</td>\n",
       "      <td>L001</td>\n",
       "      <td>/gale/raidix/rdx-2/illumina_runs/190319_A00280...</td>\n",
       "      <td>CEMBA190131-6D-1-CEMBA190131-6D-2-A3</td>\n",
       "      <td>R1</td>\n",
       "    </tr>\n",
       "  </tbody>\n",
       "</table>\n",
       "<p>5 rows × 21 columns</p>\n",
       "</div>"
      ],
      "text/plain": [
       "     date project1 species      age project2  plate-date1 plate-id1  \\\n",
       "0  190228    CEMBA      mm  P56-P63       6D  CEMBA190131        6D   \n",
       "1  190228    CEMBA      mm  P56-P63       6D  CEMBA190131        6D   \n",
       "2  190228    CEMBA      mm  P56-P63       6D  CEMBA190131        6D   \n",
       "3  190228    CEMBA      mm  P56-P63       6D  CEMBA190131        6D   \n",
       "4  190228    CEMBA      mm  P56-P63       6D  CEMBA190131        6D   \n",
       "\n",
       "  plate-num1  plate-date2 plate-id2  ... plate-pos seq-tech seq-machine  \\\n",
       "0          1  CEMBA190131        6D  ...        A1  snmCseq     Novaseq   \n",
       "1          1  CEMBA190131        6D  ...        A1  snmCseq     Novaseq   \n",
       "2          1  CEMBA190131        6D  ...        A2  snmCseq     Novaseq   \n",
       "3          1  CEMBA190131        6D  ...        A2  snmCseq     Novaseq   \n",
       "4          1  CEMBA190131        6D  ...        A3  snmCseq     Novaseq   \n",
       "\n",
       "  seq-type seq-length  suid  lane  \\\n",
       "0       pe        150  S385  L001   \n",
       "1       pe        150  S385  L001   \n",
       "2       pe        150  S386  L001   \n",
       "3       pe        150  S386  L001   \n",
       "4       pe        150  S387  L001   \n",
       "\n",
       "                                          fastq_path  \\\n",
       "0  /gale/raidix/rdx-2/illumina_runs/190319_A00280...   \n",
       "1  /gale/raidix/rdx-2/illumina_runs/190319_A00280...   \n",
       "2  /gale/raidix/rdx-2/illumina_runs/190319_A00280...   \n",
       "3  /gale/raidix/rdx-2/illumina_runs/190319_A00280...   \n",
       "4  /gale/raidix/rdx-2/illumina_runs/190319_A00280...   \n",
       "\n",
       "                                    uid read_type  \n",
       "0  CEMBA190131-6D-1-CEMBA190131-6D-2-A1        R1  \n",
       "1  CEMBA190131-6D-1-CEMBA190131-6D-2-A1        R2  \n",
       "2  CEMBA190131-6D-1-CEMBA190131-6D-2-A2        R1  \n",
       "3  CEMBA190131-6D-1-CEMBA190131-6D-2-A2        R2  \n",
       "4  CEMBA190131-6D-1-CEMBA190131-6D-2-A3        R1  \n",
       "\n",
       "[5 rows x 21 columns]"
      ]
     },
     "execution_count": 4,
     "metadata": {},
     "output_type": "execute_result"
    }
   ],
   "source": [
    "print(fastq_df.shape)\n",
    "fastq_df.head()"
   ]
  },
  {
   "cell_type": "code",
   "execution_count": 5,
   "metadata": {
    "ExecuteTime": {
     "end_time": "2019-04-15T22:18:21.469444Z",
     "start_time": "2019-04-15T22:18:21.389030Z"
    }
   },
   "outputs": [],
   "source": [
    "fastq_df.to_csv(f'/gale/netapp/home/hanliu/mapping/prepare/novaseq_fastq_dataframe.{project_name}.tsv.gz', \n",
    "                compression='gzip', sep='\\t')"
   ]
  },
  {
   "cell_type": "markdown",
   "metadata": {},
   "source": [
    "## prepare qsub commands\n",
    "### use yap mapping-qsub\n",
    "```shell\n",
    "yap mapping-qsub -h\n",
    "```\n",
    "\n",
    "### adjust config file\n",
    "To print the default config file, save the output and modify the value.\n",
    "```shell\n",
    "yap default-mapping-config --out_path PATH_TO_SAVE_CONFIG_FILE\n",
    "```\n"
   ]
  },
  {
   "cell_type": "code",
   "execution_count": 6,
   "metadata": {
    "ExecuteTime": {
     "end_time": "2019-04-15T22:18:24.497685Z",
     "start_time": "2019-04-15T22:18:24.493768Z"
    }
   },
   "outputs": [
    {
     "name": "stdout",
     "output_type": "stream",
     "text": [
      "yap mapping-qsub --fastq_dataframe /gale/netapp/home/hanliu/mapping/prepare/novaseq_fastq_dataframe.6D.tsv.gz --out_dir /gale/netapp/home/hanliu/mapping/novaseq/6D --config_path /gale/netapp/home/hanliu/mapping/prepare/RS1_mapping_config.ini\n"
     ]
    }
   ],
   "source": [
    "cmd = f'yap mapping-qsub '\\\n",
    "      f'--fastq_dataframe /gale/netapp/home/hanliu/mapping/prepare/novaseq_fastq_dataframe.{project_name}.tsv.gz '\\\n",
    "      f'--out_dir /gale/netapp/home/hanliu/mapping/novaseq/{project_name} '\\\n",
    "      f'--config_path /gale/netapp/home/hanliu/mapping/prepare/RS1_mapping_config.ini'\n",
    "print(cmd)"
   ]
  },
  {
   "cell_type": "code",
   "execution_count": 7,
   "metadata": {
    "ExecuteTime": {
     "end_time": "2019-04-15T22:18:30.669054Z",
     "start_time": "2019-04-15T22:18:25.621653Z"
    }
   },
   "outputs": [
    {
     "name": "stdout",
     "output_type": "stream",
     "text": [
      "Executing mapping-qsub...\n",
      "\n",
      "    The output directory is prepared. All related files have been copied to that directory.\n",
      "    ---------------------------------------------------------------------------------------\n",
      "    - Output directory: /gale/netapp/home/hanliu/mapping/novaseq/6D\n",
      "    - Configuration file: /gale/netapp/home/hanliu/mapping/novaseq/6D/mapping_config.ini\n",
      "    - FASTQ dataframe: /gale/netapp/home/hanliu/mapping/novaseq/6D/fastq_dataframe.tsv.gz\n",
      "    - Yap mapping command list: /gale/netapp/home/hanliu/mapping/novaseq/6D/command.json\n",
      "    \n",
      "    To run the command list using qsub, use \"yap qsub\" like this:\n",
      "    \n",
      "    yap qsub --working_dir /gale/netapp/home/hanliu/mapping/novaseq/6D --project_name allc --command_file_path /gale/netapp/home/hanliu/mapping/novaseq/6D/command.json --total_cpu 160\n",
      "    \n",
      "    Modify the qsub parameters if you need. See \"yap qsub -h\" for help.\n",
      "    \n",
      "mapping-qsub finished.\n",
      "\n"
     ]
    }
   ],
   "source": [
    "import shlex\n",
    "import subprocess\n",
    "p = subprocess.run(shlex.split(cmd), stdout=subprocess.PIPE, encoding='utf8')\n",
    "print(p.stdout)"
   ]
  },
  {
   "cell_type": "code",
   "execution_count": 8,
   "metadata": {
    "ExecuteTime": {
     "end_time": "2019-04-15T22:18:30.704492Z",
     "start_time": "2019-04-15T22:18:30.673930Z"
    }
   },
   "outputs": [],
   "source": [
    "qsub_template = f\"\"\"#!/bin/bash\n",
    "#$ -N nova_{project_name}\n",
    "#$ -V\n",
    "#$ -pe smp 1\n",
    "#$ -l h_vmem=5G\n",
    "#$ -l h_rt=99:99:99\n",
    "#$ -l s_rt=99:99:99\n",
    "#$ -e /gale/netapp/home/hanliu/mapping/novaseq/{project_name}.mapping.error.log\n",
    "#$ -o /gale/netapp/home/hanliu/mapping/novaseq/{project_name}.mapping.output.log\n",
    "\n",
    "yap qsub --working_dir /gale/netapp/home/hanliu/mapping/novaseq/{project_name} --project_name allc --command_file_path /gale/netapp/home/hanliu/mapping/novaseq/{project_name}/command.json --total_cpu 160\"\"\"\n",
    "with open(f'/gale/netapp/home/hanliu/mapping/novaseq/{project_name}.mapping.sh', 'w') as f:\n",
    "    f.write(qsub_template)"
   ]
  },
  {
   "cell_type": "code",
   "execution_count": null,
   "metadata": {},
   "outputs": [],
   "source": []
  }
 ],
 "metadata": {
  "kernelspec": {
   "display_name": "Python 3",
   "language": "python",
   "name": "python3"
  },
  "language_info": {
   "codemirror_mode": {
    "name": "ipython",
    "version": 3
   },
   "file_extension": ".py",
   "mimetype": "text/x-python",
   "name": "python",
   "nbconvert_exporter": "python",
   "pygments_lexer": "ipython3",
   "version": "3.6.5"
  },
  "toc": {
   "base_numbering": 1,
   "nav_menu": {},
   "number_sections": true,
   "sideBar": true,
   "skip_h1_title": true,
   "title_cell": "Table of Contents",
   "title_sidebar": "Contents",
   "toc_cell": true,
   "toc_position": {},
   "toc_section_display": true,
   "toc_window_display": true
  },
  "varInspector": {
   "cols": {
    "lenName": 16,
    "lenType": 16,
    "lenVar": 40
   },
   "kernels_config": {
    "python": {
     "delete_cmd_postfix": "",
     "delete_cmd_prefix": "del ",
     "library": "var_list.py",
     "varRefreshCmd": "print(var_dic_list())"
    },
    "r": {
     "delete_cmd_postfix": ") ",
     "delete_cmd_prefix": "rm(",
     "library": "var_list.r",
     "varRefreshCmd": "cat(var_dic_list()) "
    }
   },
   "types_to_exclude": [
    "module",
    "function",
    "builtin_function_or_method",
    "instance",
    "_Feature"
   ],
   "window_display": false
  }
 },
 "nbformat": 4,
 "nbformat_minor": 2
}

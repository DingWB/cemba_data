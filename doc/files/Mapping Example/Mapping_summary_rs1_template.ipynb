{
 "cells": [
  {
   "cell_type": "markdown",
   "metadata": {
    "toc": true
   },
   "source": [
    "<h1>Table of Contents<span class=\"tocSkip\"></span></h1>\n",
    "<div class=\"toc\"><ul class=\"toc-item\"><li><span><a href=\"#Generate-stat-summary\" data-toc-modified-id=\"Generate-stat-summary-1\"><span class=\"toc-item-num\">1&nbsp;&nbsp;</span>Generate stat summary</a></span></li><li><span><a href=\"#Major-filtering-paramters\" data-toc-modified-id=\"Major-filtering-paramters-2\"><span class=\"toc-item-num\">2&nbsp;&nbsp;</span>Major filtering paramters</a></span><ul class=\"toc-item\"><li><span><a href=\"#mCH%\" data-toc-modified-id=\"mCH%-2.1\"><span class=\"toc-item-num\">2.1&nbsp;&nbsp;</span>mCH%</a></span></li><li><span><a href=\"#mCG%\" data-toc-modified-id=\"mCG%-2.2\"><span class=\"toc-item-num\">2.2&nbsp;&nbsp;</span>mCG%</a></span></li><li><span><a href=\"#Dedupped-Reads\" data-toc-modified-id=\"Dedupped-Reads-2.3\"><span class=\"toc-item-num\">2.3&nbsp;&nbsp;</span>Dedupped Reads</a></span></li></ul></li><li><span><a href=\"#Success-vs-Fail\" data-toc-modified-id=\"Success-vs-Fail-3\"><span class=\"toc-item-num\">3&nbsp;&nbsp;</span>Success vs Fail</a></span></li><li><span><a href=\"#mC%\" data-toc-modified-id=\"mC%-4\"><span class=\"toc-item-num\">4&nbsp;&nbsp;</span>mC%</a></span><ul class=\"toc-item\"><li><span><a href=\"#mCG%\" data-toc-modified-id=\"mCG%-4.1\"><span class=\"toc-item-num\">4.1&nbsp;&nbsp;</span>mCG%</a></span></li><li><span><a href=\"#mCH-%\" data-toc-modified-id=\"mCH-%-4.2\"><span class=\"toc-item-num\">4.2&nbsp;&nbsp;</span>mCH %</a></span></li></ul></li><li><span><a href=\"#Reads-at-FASTQ-level\" data-toc-modified-id=\"Reads-at-FASTQ-level-5\"><span class=\"toc-item-num\">5&nbsp;&nbsp;</span>Reads at FASTQ level</a></span><ul class=\"toc-item\"><li><span><a href=\"#MultiplexReadsTotal\" data-toc-modified-id=\"MultiplexReadsTotal-5.1\"><span class=\"toc-item-num\">5.1&nbsp;&nbsp;</span>MultiplexReadsTotal</a></span></li><li><span><a href=\"#IndexReadsRatio\" data-toc-modified-id=\"IndexReadsRatio-5.2\"><span class=\"toc-item-num\">5.2&nbsp;&nbsp;</span>IndexReadsRatio</a></span></li><li><span><a href=\"#IndexReads\" data-toc-modified-id=\"IndexReads-5.3\"><span class=\"toc-item-num\">5.3&nbsp;&nbsp;</span>IndexReads</a></span><ul class=\"toc-item\"><li><span><a href=\"#Total\" data-toc-modified-id=\"Total-5.3.1\"><span class=\"toc-item-num\">5.3.1&nbsp;&nbsp;</span>Total</a></span></li><li><span><a href=\"#Ratio\" data-toc-modified-id=\"Ratio-5.3.2\"><span class=\"toc-item-num\">5.3.2&nbsp;&nbsp;</span>Ratio</a></span></li></ul></li></ul></li><li><span><a href=\"#Reads-at-BAM-level\" data-toc-modified-id=\"Reads-at-BAM-level-6\"><span class=\"toc-item-num\">6&nbsp;&nbsp;</span>Reads at BAM level</a></span><ul class=\"toc-item\"><li><span><a href=\"#Mapping-Ratio\" data-toc-modified-id=\"Mapping-Ratio-6.1\"><span class=\"toc-item-num\">6.1&nbsp;&nbsp;</span>Mapping Ratio</a></span><ul class=\"toc-item\"><li><span><a href=\"#R1\" data-toc-modified-id=\"R1-6.1.1\"><span class=\"toc-item-num\">6.1.1&nbsp;&nbsp;</span>R1</a></span></li><li><span><a href=\"#R2\" data-toc-modified-id=\"R2-6.1.2\"><span class=\"toc-item-num\">6.1.2&nbsp;&nbsp;</span>R2</a></span></li></ul></li><li><span><a href=\"#PCR-duplicates\" data-toc-modified-id=\"PCR-duplicates-6.2\"><span class=\"toc-item-num\">6.2&nbsp;&nbsp;</span>PCR duplicates</a></span><ul class=\"toc-item\"><li><span><a href=\"#Non-duplicates-Ratio\" data-toc-modified-id=\"Non-duplicates-Ratio-6.2.1\"><span class=\"toc-item-num\">6.2.1&nbsp;&nbsp;</span>Non-duplicates Ratio</a></span></li><li><span><a href=\"#Total-non-duplicate-reads-(including-MAPQ-filter)\" data-toc-modified-id=\"Total-non-duplicate-reads-(including-MAPQ-filter)-6.2.2\"><span class=\"toc-item-num\">6.2.2&nbsp;&nbsp;</span>Total non-duplicate reads (including MAPQ filter)</a></span></li></ul></li></ul></li><li><span><a href=\"#Pairplot\" data-toc-modified-id=\"Pairplot-7\"><span class=\"toc-item-num\">7&nbsp;&nbsp;</span>Pairplot</a></span></li></ul></div>"
   ]
  },
  {
   "cell_type": "code",
   "execution_count": null,
   "metadata": {},
   "outputs": [],
   "source": [
    "from cemba_data.mapping.pipeline import summary_pipeline_stat\n",
    "from cemba_data.plot.preprocessing import *\n",
    "import pandas as pd\n",
    "import pathlib\n",
    "import matplotlib"
   ]
  },
  {
   "cell_type": "code",
   "execution_count": null,
   "metadata": {},
   "outputs": [],
   "source": [
    "sns.set_context(\"paper\", font_scale=1, rc={\"lines.linewidth\": 0.5})\n",
    "matplotlib.rc('figure', dpi=200)  # make figures more clear"
   ]
  },
  {
   "cell_type": "markdown",
   "metadata": {},
   "source": [
    "## Generate stat summary"
   ]
  },
  {
   "cell_type": "code",
   "execution_count": null,
   "metadata": {},
   "outputs": [],
   "source": [
    "cemba_region_name = '6A'\n",
    "\n",
    "mapping_out_dir = pathlib.Path(f'/gale/netapp/scratch2/hanliu/cemba_mapping/{cemba_region_name}')"
   ]
  },
  {
   "cell_type": "code",
   "execution_count": null,
   "metadata": {},
   "outputs": [],
   "source": [
    "if (mapping_out_dir / 'mapping_summary.tsv.gz').exists():\n",
    "    total_meta = pd.read_table(mapping_out_dir / 'mapping_summary.tsv.gz', index_col=[0, 1])\n",
    "else:\n",
    "    total_meta = summary_pipeline_stat(mapping_out_dir)\n",
    "    total_meta.to_csv(mapping_out_dir / 'mapping_summary.tsv.gz', sep='\\t', compression='gzip')"
   ]
  },
  {
   "cell_type": "code",
   "execution_count": null,
   "metadata": {
    "ExecuteTime": {
     "start_time": "2019-03-19T05:45:54.904Z"
    }
   },
   "outputs": [],
   "source": [
    "def add_rs1_specific_meta_cols(total_meta):\n",
    "    \"\"\"This function is specific to RS1\"\"\"\n",
    "    records = {}\n",
    "    for (uid, index_name), row in total_meta.iterrows():\n",
    "        record_dict = {}\n",
    "        # add plate info\n",
    "        plate_date1, plate_region1, plate_num1, plate_date2, plate_region2, plate_num2, plate_pos = (uid.split('-'))\n",
    "        record_dict['plate_name_1'] = f'{plate_date1}_{plate_region1}_{plate_num1}'\n",
    "        record_dict['plate_name_2'] = f'{plate_date2}_{plate_region2}_{plate_num2}'\n",
    "        record_dict['plate_pos'] = plate_pos\n",
    "        # judge real plate\n",
    "        if index_name in ['ad001', 'ad002', 'ad004', 'ad006']:\n",
    "            record_dict['real_plate'] = record_dict['plate_name_1']\n",
    "        else:\n",
    "            record_dict['real_plate'] = record_dict['plate_name_2']\n",
    "        # 96 pos\n",
    "        record_dict['Row96'] = int(record_dict['plate_pos'][1:]) - 1\n",
    "        record_dict['Col96'] = ord(record_dict['plate_pos'][0]) - 65  # convert A-H to 0-8\n",
    "        # 384 pos\n",
    "        ad_index_384_dict = {\n",
    "            'ad001': (0, 0), 'ad002': (0, 1),\n",
    "            'ad004': (1, 0), 'ad006': (1, 1),\n",
    "            'ad007': (0, 0), 'ad008': (0, 1),\n",
    "            'ad010': (1, 0), 'ad012': (1, 1)}\n",
    "        record_dict['Row384'] = 2 * record_dict['Row96'] + ad_index_384_dict[index_name][0]\n",
    "        record_dict['Col384'] = 2 * record_dict['Col96'] + ad_index_384_dict[index_name][1]\n",
    "        records[(uid, index_name)] = record_dict\n",
    "    rs1_df = pd.DataFrame(records).T\n",
    "    return pd.concat([total_meta, rs1_df], sort=True, axis=1)\n",
    "\n",
    "total_meta = add_rs1_specific_meta_cols(total_meta)"
   ]
  },
  {
   "cell_type": "markdown",
   "metadata": {},
   "source": [
    "## Major filtering paramters\n",
    "\n",
    "### mCH%"
   ]
  },
  {
   "cell_type": "code",
   "execution_count": null,
   "metadata": {},
   "outputs": [],
   "source": [
    "fig, axes = cutoff_vs_cell_remain(data=total_meta['CH_Rate'], \n",
    "                                  cutoff_num=1000, bins=50, kde=False)"
   ]
  },
  {
   "cell_type": "markdown",
   "metadata": {},
   "source": [
    "### mCG%"
   ]
  },
  {
   "cell_type": "code",
   "execution_count": null,
   "metadata": {},
   "outputs": [],
   "source": [
    "fig, axes = cutoff_vs_cell_remain(data=total_meta['CG_Rate'], \n",
    "                                  cutoff_num=1000, bins=50, kde=False)"
   ]
  },
  {
   "cell_type": "markdown",
   "metadata": {},
   "source": [
    "### Dedupped Reads"
   ]
  },
  {
   "cell_type": "code",
   "execution_count": null,
   "metadata": {},
   "outputs": [],
   "source": [
    "fig, axes = cutoff_vs_cell_remain(data=total_meta['DeduppedReads'], \n",
    "                                  cutoff_num=1000, bins=50, kde=False)"
   ]
  },
  {
   "cell_type": "code",
   "execution_count": null,
   "metadata": {},
   "outputs": [],
   "source": [
    "cell_pass = (total_meta['DeduppedReads'] > 500000).sum()\n",
    "total_input = total_meta['MultiplexReadsTotal'].reset_index()[['uid', 'MultiplexReadsTotal']].drop_duplicates()['MultiplexReadsTotal'].sum()\n",
    "total_final = total_meta['DeduppedReads'].sum()\n",
    "print(f'In {cemba_region_name}, {cell_pass} cells have > 500,000 final reads.')\n",
    "print(f'In {cemba_region_name}, {total_input} total input reads.')\n",
    "print(f'In {cemba_region_name}, {int(total_final)} total final reads.')"
   ]
  },
  {
   "cell_type": "markdown",
   "metadata": {},
   "source": [
    "## Success vs Fail"
   ]
  },
  {
   "cell_type": "code",
   "execution_count": null,
   "metadata": {
    "scrolled": true
   },
   "outputs": [],
   "source": [
    "fig, axes = plt.subplots(ncols=2, figsize=(10, 4))\n",
    "ax = success_vs_fail(total_meta.reset_index(), 'DeduppedReads', 500000, 'index_name', 'CG_Rate', ax=axes[0])\n",
    "ax = success_vs_fail(total_meta.reset_index(), 'DeduppedReads', 500000, 'index_name', 'CH_Rate', ax=axes[1])\n",
    "fig.tight_layout()"
   ]
  },
  {
   "cell_type": "markdown",
   "metadata": {},
   "source": [
    "## mC%\n",
    "\n",
    "### mCG%"
   ]
  },
  {
   "cell_type": "code",
   "execution_count": null,
   "metadata": {},
   "outputs": [],
   "source": [
    "fig, axes = plot_on_plate(total_meta, 'CG_Rate', 'real_plate', vmin=0.7, vmax=0.9, \n",
    "                          heatmap_kws={'linewidth': 0, 'linecolor': '#EEEEEE'}, \n",
    "                          aggregation_func=lambda i: i.mean())"
   ]
  },
  {
   "cell_type": "markdown",
   "metadata": {},
   "source": [
    "### mCH %"
   ]
  },
  {
   "cell_type": "code",
   "execution_count": null,
   "metadata": {},
   "outputs": [],
   "source": [
    "fig, axes = plot_on_plate(total_meta, 'CH_Rate', 'real_plate', vmin=0., vmax=0.06, \n",
    "                          heatmap_kws={'linewidth': 0, 'linecolor': '#EEEEEE'}, \n",
    "                          aggregation_func=lambda i: i.mean())"
   ]
  },
  {
   "cell_type": "markdown",
   "metadata": {},
   "source": [
    "## Reads at FASTQ level\n",
    "### MultiplexReadsTotal\n",
    "- Total Fastq Reads before demultiplex"
   ]
  },
  {
   "cell_type": "code",
   "execution_count": null,
   "metadata": {},
   "outputs": [],
   "source": [
    "fig, axes = plot_on_plate(total_meta, 'MultiplexReadsTotal', 'real_plate', vmin=1e7, vmax=1e8, \n",
    "                          heatmap_kws={'linewidth': 0, 'linecolor': '#EEEEEE'},\n",
    "                          aggregation_func=lambda i: i.mean())"
   ]
  },
  {
   "cell_type": "markdown",
   "metadata": {},
   "source": [
    "### IndexReadsRatio\n",
    "- Portion of each index_name (cell) among every 8-multiplexed fastq group"
   ]
  },
  {
   "cell_type": "code",
   "execution_count": null,
   "metadata": {},
   "outputs": [],
   "source": [
    "simple_violin(x='real_plate', y='IndexReadsRatio', data=total_meta)"
   ]
  },
  {
   "cell_type": "code",
   "execution_count": null,
   "metadata": {},
   "outputs": [],
   "source": [
    "fig, axes = plot_on_plate(total_meta, 'IndexReadsRatio', 'real_plate', vmin=0, vmax=25, \n",
    "                          heatmap_kws={'linewidth': 0, 'linecolor': '#EEEEEE'}, \n",
    "                          aggregation_func=lambda i: i.mean())"
   ]
  },
  {
   "cell_type": "markdown",
   "metadata": {},
   "source": [
    "### IndexReads\n",
    "#### Total"
   ]
  },
  {
   "cell_type": "code",
   "execution_count": null,
   "metadata": {},
   "outputs": [],
   "source": [
    "fig, axes = plot_on_plate(total_meta, 'IndexReadsTotal', 'real_plate', vmin=1e6, vmax=5e6, \n",
    "                          heatmap_kws={'linewidth': 0, 'linecolor': '#EEEEEE'}, \n",
    "                          aggregation_func=lambda i: i.mean())"
   ]
  },
  {
   "cell_type": "markdown",
   "metadata": {},
   "source": [
    "#### Ratio"
   ]
  },
  {
   "cell_type": "code",
   "execution_count": null,
   "metadata": {
    "scrolled": true
   },
   "outputs": [],
   "source": [
    "fig, ax = simple_violin(x='index_name', y='IndexTrimedReadsRatio', \n",
    "                        data=total_meta.reset_index())\n",
    "ax.set_ylim(0.7, 1)"
   ]
  },
  {
   "cell_type": "code",
   "execution_count": null,
   "metadata": {},
   "outputs": [],
   "source": [
    "fig, axes = plot_on_plate(total_meta, 'IndexTrimedReadsRatio', 'real_plate', vmin=0.7, vmax=1, \n",
    "                          heatmap_kws={'linewidth': 0, 'linecolor': '#EEEEEE'}, \n",
    "                          aggregation_func=lambda i: i.mean())"
   ]
  },
  {
   "cell_type": "markdown",
   "metadata": {},
   "source": [
    "##  Reads at BAM level\n",
    "\n",
    "### Mapping Ratio\n",
    "\n",
    "#### R1"
   ]
  },
  {
   "cell_type": "code",
   "execution_count": null,
   "metadata": {},
   "outputs": [],
   "source": [
    "fig, axes = plot_on_plate(total_meta, 'R1MappedRatio', 'real_plate', vmin=50, vmax=80, \n",
    "                          heatmap_kws={'linewidth': 0, 'linecolor': '#EEEEEE'}, \n",
    "                          aggregation_func=lambda i: i.mean())"
   ]
  },
  {
   "cell_type": "markdown",
   "metadata": {},
   "source": [
    "#### R2"
   ]
  },
  {
   "cell_type": "code",
   "execution_count": null,
   "metadata": {},
   "outputs": [],
   "source": [
    "fig, axes = plot_on_plate(total_meta, 'R2MappedRatio', 'real_plate', vmin=50, vmax=80, \n",
    "                          heatmap_kws={'linewidth': 0, 'linecolor': '#EEEEEE'}, \n",
    "                          aggregation_func=lambda i: i.mean())"
   ]
  },
  {
   "cell_type": "markdown",
   "metadata": {},
   "source": [
    "### PCR duplicates\n",
    "\n",
    "####  Non-duplicates Ratio"
   ]
  },
  {
   "cell_type": "code",
   "execution_count": null,
   "metadata": {
    "scrolled": true
   },
   "outputs": [],
   "source": [
    "fig, axes = plot_on_plate(total_meta, 'DeduppedRatio', 'real_plate', vmin=0.6, vmax=0.8, \n",
    "                          heatmap_kws={'linewidth': 0, 'linecolor': '#EEEEEE'}, \n",
    "                          aggregation_func=lambda i: i.mean())"
   ]
  },
  {
   "cell_type": "markdown",
   "metadata": {},
   "source": [
    "#### Total non-duplicate reads (including MAPQ filter)"
   ]
  },
  {
   "cell_type": "code",
   "execution_count": null,
   "metadata": {
    "scrolled": true
   },
   "outputs": [],
   "source": [
    "fig, axes = plot_on_plate(total_meta, 'DeduppedReads', 'real_plate', vmin=5e5, vmax=3e6, \n",
    "                          heatmap_kws={'linewidth': 0, 'linecolor': '#EEEEEE'}, \n",
    "                          aggregation_func=lambda i: i.mean())"
   ]
  },
  {
   "cell_type": "markdown",
   "metadata": {},
   "source": [
    "## Pairplot"
   ]
  },
  {
   "cell_type": "code",
   "execution_count": null,
   "metadata": {},
   "outputs": [],
   "source": [
    "sns.pairplot(total_meta.reset_index()[['real_plate', 'IndexTrimedReadsRatio',\n",
    "                                       'R1MappedRatio', 'R2MappedRatio',\n",
    "                                       'DeduppedRatio', 'DeduppedReads', 'CH_Rate', 'CG_Rate']], \n",
    "             hue='real_plate')"
   ]
  },
  {
   "cell_type": "code",
   "execution_count": null,
   "metadata": {},
   "outputs": [],
   "source": [
    "sns.pairplot(total_meta.reset_index()[['index_name', 'IndexTrimedReadsRatio',\n",
    "                                       'R1MappedRatio', 'R2MappedRatio',\n",
    "                                       'DeduppedRatio', 'DeduppedReads', 'CH_Rate', 'CG_Rate']], \n",
    "             hue='index_name')"
   ]
  },
  {
   "cell_type": "code",
   "execution_count": null,
   "metadata": {},
   "outputs": [],
   "source": [
    "fig, ax = simple_violin(x='index_name', y='DeduppedReads', \n",
    "                        data=total_meta.reset_index())"
   ]
  },
  {
   "cell_type": "code",
   "execution_count": null,
   "metadata": {},
   "outputs": [],
   "source": []
  }
 ],
 "metadata": {
  "kernelspec": {
   "display_name": "Python 3",
   "language": "python",
   "name": "python3"
  },
  "language_info": {
   "codemirror_mode": {
    "name": "ipython",
    "version": 3
   },
   "file_extension": ".py",
   "mimetype": "text/x-python",
   "name": "python",
   "nbconvert_exporter": "python",
   "pygments_lexer": "ipython3",
   "version": "3.6.5"
  },
  "toc": {
   "base_numbering": 1,
   "nav_menu": {},
   "number_sections": true,
   "sideBar": true,
   "skip_h1_title": true,
   "title_cell": "Table of Contents",
   "title_sidebar": "Contents",
   "toc_cell": true,
   "toc_position": {},
   "toc_section_display": true,
   "toc_window_display": true
  },
  "varInspector": {
   "cols": {
    "lenName": 16,
    "lenType": 16,
    "lenVar": 40
   },
   "kernels_config": {
    "python": {
     "delete_cmd_postfix": "",
     "delete_cmd_prefix": "del ",
     "library": "var_list.py",
     "varRefreshCmd": "print(var_dic_list())"
    },
    "r": {
     "delete_cmd_postfix": ") ",
     "delete_cmd_prefix": "rm(",
     "library": "var_list.r",
     "varRefreshCmd": "cat(var_dic_list()) "
    }
   },
   "types_to_exclude": [
    "module",
    "function",
    "builtin_function_or_method",
    "instance",
    "_Feature"
   ],
   "window_display": false
  }
 },
 "nbformat": 4,
 "nbformat_minor": 2
}

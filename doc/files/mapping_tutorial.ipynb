{
 "cells": [
  {
   "cell_type": "markdown",
   "metadata": {
    "toc": true
   },
   "source": [
    "<h1>Table of Contents<span class=\"tocSkip\"></span></h1>\n",
    "<div class=\"toc\"><ul class=\"toc-item\"><li><span><a href=\"#Install\" data-toc-modified-id=\"Install-1\"><span class=\"toc-item-num\">1&nbsp;&nbsp;</span>Install</a></span><ul class=\"toc-item\"><li><span><a href=\"#Prepare-conda-environment-for-mapping\" data-toc-modified-id=\"Prepare-conda-environment-for-mapping-1.1\"><span class=\"toc-item-num\">1.1&nbsp;&nbsp;</span>Prepare conda environment for mapping</a></span><ul class=\"toc-item\"><li><span><a href=\"#check-if-conda-is-installed\" data-toc-modified-id=\"check-if-conda-is-installed-1.1.1\"><span class=\"toc-item-num\">1.1.1&nbsp;&nbsp;</span>check if conda is installed</a></span></li><li><span><a href=\"#if-not-installed,-install-either-miniconda-or-anaconda.\" data-toc-modified-id=\"if-not-installed,-install-either-miniconda-or-anaconda.-1.1.2\"><span class=\"toc-item-num\">1.1.2&nbsp;&nbsp;</span>if not installed, install either miniconda or anaconda.</a></span></li><li><span><a href=\"#update-conda\" data-toc-modified-id=\"update-conda-1.1.3\"><span class=\"toc-item-num\">1.1.3&nbsp;&nbsp;</span>update conda</a></span></li><li><span><a href=\"#create-new-enviroment-specific-for-mapping\" data-toc-modified-id=\"create-new-enviroment-specific-for-mapping-1.1.4\"><span class=\"toc-item-num\">1.1.4&nbsp;&nbsp;</span>create new enviroment specific for mapping</a></span></li><li><span><a href=\"#activate-new-environment\" data-toc-modified-id=\"activate-new-environment-1.1.5\"><span class=\"toc-item-num\">1.1.5&nbsp;&nbsp;</span>activate new environment</a></span></li></ul></li><li><span><a href=\"#Install-packages\" data-toc-modified-id=\"Install-packages-1.2\"><span class=\"toc-item-num\">1.2&nbsp;&nbsp;</span>Install packages</a></span><ul class=\"toc-item\"><li><span><a href=\"#Set-up-bioconda\" data-toc-modified-id=\"Set-up-bioconda-1.2.1\"><span class=\"toc-item-num\">1.2.1&nbsp;&nbsp;</span>Set up bioconda</a></span></li><li><span><a href=\"#install-packages-into-new-environment\" data-toc-modified-id=\"install-packages-into-new-environment-1.2.2\"><span class=\"toc-item-num\">1.2.2&nbsp;&nbsp;</span>install packages into new environment</a></span></li><li><span><a href=\"#clone-cemba-data-repo-and-install-it\" data-toc-modified-id=\"clone-cemba-data-repo-and-install-it-1.2.3\"><span class=\"toc-item-num\">1.2.3&nbsp;&nbsp;</span>clone cemba-data repo and install it</a></span></li><li><span><a href=\"#test-if-install-correctly\" data-toc-modified-id=\"test-if-install-correctly-1.2.4\"><span class=\"toc-item-num\">1.2.4&nbsp;&nbsp;</span>test if install correctly</a></span></li></ul></li><li><span><a href=\"#update-the-package\" data-toc-modified-id=\"update-the-package-1.3\"><span class=\"toc-item-num\">1.3&nbsp;&nbsp;</span>update the package</a></span></li></ul></li><li><span><a href=\"#Prepare-Input-Files-for-Pipeline\" data-toc-modified-id=\"Prepare-Input-Files-for-Pipeline-2\"><span class=\"toc-item-num\">2&nbsp;&nbsp;</span>Prepare Input Files for Pipeline</a></span><ul class=\"toc-item\"><li><span><a href=\"#FASTQ-dataframe\" data-toc-modified-id=\"FASTQ-dataframe-2.1\"><span class=\"toc-item-num\">2.1&nbsp;&nbsp;</span>FASTQ dataframe</a></span><ul class=\"toc-item\"><li><span><a href=\"#What-is-FASTQ-dataframe?\" data-toc-modified-id=\"What-is-FASTQ-dataframe?-2.1.1\"><span class=\"toc-item-num\">2.1.1&nbsp;&nbsp;</span>What is FASTQ dataframe?</a></span></li><li><span><a href=\"#How-to-prepare-FASTQ-dataframe?\" data-toc-modified-id=\"How-to-prepare-FASTQ-dataframe?-2.1.2\"><span class=\"toc-item-num\">2.1.2&nbsp;&nbsp;</span>How to prepare FASTQ dataframe?</a></span></li><li><span><a href=\"#FASTQ-dataframe-example\" data-toc-modified-id=\"FASTQ-dataframe-example-2.1.3\"><span class=\"toc-item-num\">2.1.3&nbsp;&nbsp;</span>FASTQ dataframe example</a></span></li></ul></li><li><span><a href=\"#mapping_config.ini\" data-toc-modified-id=\"mapping_config.ini-2.2\"><span class=\"toc-item-num\">2.2&nbsp;&nbsp;</span>mapping_config.ini</a></span><ul class=\"toc-item\"><li><span><a href=\"#What-is-mapping_config.ini-file?\" data-toc-modified-id=\"What-is-mapping_config.ini-file?-2.2.1\"><span class=\"toc-item-num\">2.2.1&nbsp;&nbsp;</span>What is mapping_config.ini file?</a></span></li><li><span><a href=\"#How-to-prepare-mapping_config.ini-file?\" data-toc-modified-id=\"How-to-prepare-mapping_config.ini-file?-2.2.2\"><span class=\"toc-item-num\">2.2.2&nbsp;&nbsp;</span>How to prepare mapping_config.ini file?</a></span></li><li><span><a href=\"#mapping_config.ini-example\" data-toc-modified-id=\"mapping_config.ini-example-2.2.3\"><span class=\"toc-item-num\">2.2.3&nbsp;&nbsp;</span>mapping_config.ini example</a></span></li></ul></li></ul></li><li><span><a href=\"#prepare-qsub-commands\" data-toc-modified-id=\"prepare-qsub-commands-3\"><span class=\"toc-item-num\">3&nbsp;&nbsp;</span>prepare qsub commands</a></span><ul class=\"toc-item\"><li><span><a href=\"#STEP1:-yap-mapping-qsub\" data-toc-modified-id=\"STEP1:-yap-mapping-qsub-3.1\"><span class=\"toc-item-num\">3.1&nbsp;&nbsp;</span>STEP1: yap mapping-qsub</a></span><ul class=\"toc-item\"><li><span><a href=\"#What-does-&quot;mapping-qsub&quot;-do?\" data-toc-modified-id=\"What-does-&quot;mapping-qsub&quot;-do?-3.1.1\"><span class=\"toc-item-num\">3.1.1&nbsp;&nbsp;</span>What does \"mapping-qsub\" do?</a></span></li></ul></li><li><span><a href=\"#STEP2:-yap-qsub\" data-toc-modified-id=\"STEP2:-yap-qsub-3.2\"><span class=\"toc-item-num\">3.2&nbsp;&nbsp;</span>STEP2: yap qsub</a></span></li></ul></li></ul></div>"
   ]
  },
  {
   "cell_type": "markdown",
   "metadata": {},
   "source": [
    "NOTE: This tutorial is only used for snmC-seq or snmC-seq like single cell sequencing with the common setting used by Ecker lab. It's aimed for automation but not abstraction"
   ]
  },
  {
   "cell_type": "markdown",
   "metadata": {},
   "source": [
    "##  Install\n",
    "###  Prepare conda environment for mapping\n",
    "####  check if conda is installed\n",
    "```shell\n",
    "conda info\n",
    "```\n",
    "####  if not installed, install either miniconda or anaconda.\n",
    "- IMPORTANT: select python 3.X\n",
    "- miniconda (recommand if you don't use python a lot): https://conda.io/miniconda.html\n",
    "- anaconda (larger): https://www.anaconda.com/download/\n",
    "\n",
    "####  update conda\n",
    "```shell\n",
    "conda update conda\n",
    "```\n",
    "####  create new enviroment specific for mapping\n",
    "you can change the name into any desired name, but python version need to be >= 3.6\n",
    "```shell\n",
    "conda create --name mapping python=3.6\n",
    "```\n",
    "\n",
    "####  activate new environment\n",
    "remember to run this command every time before using the pipeline.\n",
    "```shell\n",
    "source activate mapping\n",
    "```"
   ]
  },
  {
   "cell_type": "markdown",
   "metadata": {},
   "source": [
    "### Install packages\n",
    "#### Set up bioconda\n",
    "[bioconda](https://bioconda.github.io/) is a package manager for most popular biological tools, its wonderful!\n",
    "```shell\n",
    "# run these command to add bioconda into your conda channel, the order of these 3 line matters\n",
    "conda config --add channels defaults\n",
    "conda config --add channels bioconda\n",
    "conda config --add channels conda-forge\n",
    "```\n",
    "\n",
    "####  install packages into new environment\n",
    "```shell\n",
    "conda install -n mapping bedtools=2.27 bismark=0.20 bowtie2=2.3 cutadapt=1.18 fastqc=0.11 picard=2.18 python=3.7 samtools=1.9 htslib=1.9\n",
    "```\n",
    "\n",
    "####  clone cemba-data repo and install it\n",
    "this step will take some time, a few packages will be installed into this environment\n",
    "```shell\n",
    "git clone https://github.com/lhqing/cemba_data.git\n",
    "cd cemba_data\n",
    "pip install .\n",
    "```\n",
    "\n",
    "####  test if install correctly\n",
    "```shell\n",
    "yap -h\n",
    "```\n",
    "\n",
    "### update the package\n",
    "```shell\n",
    "cd /path/to/original/dir/you/clone/from/github/cemba_data\n",
    "git pull\n",
    "pip install .\n",
    "```"
   ]
  },
  {
   "cell_type": "markdown",
   "metadata": {},
   "source": [
    "## Prepare Input Files for Pipeline\n",
    "\n",
    "In order to run the pipeline for a single cell library, you need to prepare 2 file:\n",
    "1. FASTQ dataframe\n",
    "2. mapping_config.ini\n",
    "\n",
    "\n",
    "### FASTQ dataframe\n",
    "\n",
    "#### What is FASTQ dataframe?\n",
    "- A tab separated table contain all information of a library of FASTQ files.\n",
    "- First line is header, each other line is information of a FASTQ file.\n",
    "- IMPORTANT: must have 4 columns, (order of column doesn't matter, but the column name must be the same as following):\n",
    "    1. lane: sequencing lane where the fastq come from, e.g. L001, L002, L003, L004...\n",
    "    2. uid: An unique id that can identify a group of FASTQ files before AD index demultiplex. Usually I use\n",
    "    3. read_type: read1 or read2, e.g. R1, R2\n",
    "    4. fastq_path: Absolute path of a FASTQ file.\n",
    "    \n",
    "#### How to prepare FASTQ dataframe?\n",
    "- You should prepare it by yourself, once you get demultiplexed (by illumina adapter) FASTQ files for a whole library from Joe N.\n",
    "- Because different project may have different naming pattern, you should figure out which part of the file name is lane, uid and read_type, then make these information for each FASTQ file in a table like bellow.\n",
    "- This may seems trivial, but once you done these, you can save the code for all subsequent experiments following **same name pattern**.\n",
    "- so it is HIGHLY RECOMMANDED THAT YOU DO NOT CHANGE FASTQ NAME PATTERN THROUGHOUT YOUR PROJECT."
   ]
  },
  {
   "cell_type": "markdown",
   "metadata": {},
   "source": [
    "#### FASTQ dataframe example"
   ]
  },
  {
   "cell_type": "code",
   "execution_count": 9,
   "metadata": {
    "ExecuteTime": {
     "end_time": "2019-03-26T16:51:36.002096Z",
     "start_time": "2019-03-26T16:51:35.969971Z"
    }
   },
   "outputs": [
    {
     "name": "stdout",
     "output_type": "stream",
     "text": [
      "This FASTQ dataframe have 3072 rows (not include the first header row) for 3072 FASTQ file, which is from a standard CEMBA snmC-seq experiment using 8 384 plates.\n"
     ]
    },
    {
     "data": {
      "text/html": [
       "<div>\n",
       "<style scoped>\n",
       "    .dataframe tbody tr th:only-of-type {\n",
       "        vertical-align: middle;\n",
       "    }\n",
       "\n",
       "    .dataframe tbody tr th {\n",
       "        vertical-align: top;\n",
       "    }\n",
       "\n",
       "    .dataframe thead th {\n",
       "        text-align: right;\n",
       "    }\n",
       "</style>\n",
       "<table border=\"1\" class=\"dataframe\">\n",
       "  <thead>\n",
       "    <tr style=\"text-align: right;\">\n",
       "      <th></th>\n",
       "      <th>lane</th>\n",
       "      <th>uid</th>\n",
       "      <th>read_type</th>\n",
       "      <th>fastq_path</th>\n",
       "    </tr>\n",
       "  </thead>\n",
       "  <tbody>\n",
       "    <tr>\n",
       "      <th>0</th>\n",
       "      <td>L001</td>\n",
       "      <td>CEMBA181022-6B-1-CEMBA181022-6B-2-A1</td>\n",
       "      <td>R1</td>\n",
       "      <td>/gale/oberon/data11/181119_A00280_0033_BHCHYKD...</td>\n",
       "    </tr>\n",
       "    <tr>\n",
       "      <th>1</th>\n",
       "      <td>L001</td>\n",
       "      <td>CEMBA181022-6B-1-CEMBA181022-6B-2-A1</td>\n",
       "      <td>R2</td>\n",
       "      <td>/gale/oberon/data11/181119_A00280_0033_BHCHYKD...</td>\n",
       "    </tr>\n",
       "    <tr>\n",
       "      <th>2</th>\n",
       "      <td>L001</td>\n",
       "      <td>CEMBA181022-6B-1-CEMBA181022-6B-2-A2</td>\n",
       "      <td>R1</td>\n",
       "      <td>/gale/oberon/data11/181119_A00280_0033_BHCHYKD...</td>\n",
       "    </tr>\n",
       "    <tr>\n",
       "      <th>3</th>\n",
       "      <td>L001</td>\n",
       "      <td>CEMBA181022-6B-1-CEMBA181022-6B-2-A2</td>\n",
       "      <td>R2</td>\n",
       "      <td>/gale/oberon/data11/181119_A00280_0033_BHCHYKD...</td>\n",
       "    </tr>\n",
       "    <tr>\n",
       "      <th>4</th>\n",
       "      <td>L001</td>\n",
       "      <td>CEMBA181022-6B-1-CEMBA181022-6B-2-A3</td>\n",
       "      <td>R1</td>\n",
       "      <td>/gale/oberon/data11/181119_A00280_0033_BHCHYKD...</td>\n",
       "    </tr>\n",
       "  </tbody>\n",
       "</table>\n",
       "</div>"
      ],
      "text/plain": [
       "   lane                                   uid read_type  \\\n",
       "0  L001  CEMBA181022-6B-1-CEMBA181022-6B-2-A1        R1   \n",
       "1  L001  CEMBA181022-6B-1-CEMBA181022-6B-2-A1        R2   \n",
       "2  L001  CEMBA181022-6B-1-CEMBA181022-6B-2-A2        R1   \n",
       "3  L001  CEMBA181022-6B-1-CEMBA181022-6B-2-A2        R2   \n",
       "4  L001  CEMBA181022-6B-1-CEMBA181022-6B-2-A3        R1   \n",
       "\n",
       "                                          fastq_path  \n",
       "0  /gale/oberon/data11/181119_A00280_0033_BHCHYKD...  \n",
       "1  /gale/oberon/data11/181119_A00280_0033_BHCHYKD...  \n",
       "2  /gale/oberon/data11/181119_A00280_0033_BHCHYKD...  \n",
       "3  /gale/oberon/data11/181119_A00280_0033_BHCHYKD...  \n",
       "4  /gale/oberon/data11/181119_A00280_0033_BHCHYKD...  "
      ]
     },
     "execution_count": 9,
     "metadata": {},
     "output_type": "execute_result"
    }
   ],
   "source": [
    "# import pandas as pd\n",
    "# df = pd.read_table('/home/hanliu/rdx4/mapping/6B/fastq_dataframe.tsv.gz', index_col=None)[['lane', 'uid', 'read_type', 'fastq_path']]\n",
    "# print(f'This FASTQ dataframe have {df.shape[0]} rows (not include the first header row) for {df.shape[0]} FASTQ file, which is from a standard CEMBA snmC-seq experiment using 8 384 plates.')\n",
    "# df.head()"
   ]
  },
  {
   "cell_type": "markdown",
   "metadata": {},
   "source": [
    "### mapping_config.ini\n",
    "\n",
    "#### What is mapping_config.ini file?\n",
    "\n",
    "- It's a place gather all adjustable parameters of mapping pipeline into a single file in [INI format](https://en.wikipedia.org/wiki/INI_file), so you don't need to put in 100 parameters in a shell command...\n",
    "\n",
    "- INI format is super simple:\n",
    "    ```\n",
    "    ; comment start with semicolon\n",
    "    [section1]\n",
    "    key1=value1\n",
    "    key2=value2\n",
    "    \n",
    "    [section2]\n",
    "    key1=value1\n",
    "    key2=value2\n",
    "    ```\n",
    "- Currently, the pipeline don't allow to change the sections and keys, so just change values according to your needs.\n",
    "\n",
    "#### How to prepare mapping_config.ini file?"
   ]
  },
  {
   "cell_type": "markdown",
   "metadata": {},
   "source": [
    "You can print out the default config file, save it to your own place and modify the value.\n",
    "```shell\n",
    "yap default-mapping-config --out_path PATH_TO_SAVE_CONFIG_FILE\n",
    "```"
   ]
  },
  {
   "cell_type": "markdown",
   "metadata": {
    "ExecuteTime": {
     "end_time": "2019-03-26T16:50:12.430864Z",
     "start_time": "2019-03-26T16:50:12.428861Z"
    }
   },
   "source": [
    "#### mapping_config.ini example"
   ]
  },
  {
   "cell_type": "code",
   "execution_count": 5,
   "metadata": {
    "ExecuteTime": {
     "end_time": "2019-03-26T16:48:52.356942Z",
     "start_time": "2019-03-26T16:48:52.233224Z"
    }
   },
   "outputs": [
    {
     "name": "stdout",
     "output_type": "stream",
     "text": [
      "; Mapping configurations\r\n",
      ";\r\n",
      "; INI format\r\n",
      "; [Section1]\r\n",
      "; KEY1 = VALUE1\r\n",
      "; KEY2 = VALUE2\r\n",
      ";\r\n",
      "; [Section2]\r\n",
      "; KEY1 = VALUE1\r\n",
      "; KEY2 = VALUE2\r\n",
      ";\r\n",
      "; lines start with \";\" is comment.\r\n",
      ";\r\n",
      "; NOTE: Don't change any section or key names,\r\n",
      "; that won't work, only change value when adjust parameters.\r\n",
      ";\r\n",
      "\r\n",
      "\r\n",
      "[multiplexIndex]\r\n",
      "; This section is for demultiplex step\r\n",
      "; contain hexamer used for multiplex cells.\r\n",
      "AD001 = ATCACG\r\n",
      "AD002 = CGATGT\r\n",
      "AD003 = TTAGGC\r\n",
      "AD004 = TGACCA\r\n",
      "AD005 = ACAGTG\r\n",
      "AD006 = GCCAAT\r\n",
      "AD007 = CAGATC\r\n",
      "AD008 = ACTTGA\r\n",
      "AD009 = GATCAG\r\n",
      "AD010 = TAGCTT\r\n",
      "AD011 = GGCTAC\r\n",
      "AD012 = CTTGTA\r\n",
      "\r\n",
      "[demultiplex]\r\n",
      "; This section is for demultiplex step\r\n",
      "; contain hexamer used for multiplex cells.\r\n",
      "\r\n",
      "overlap = 6\r\n",
      "; least overlap of read and multiplexIndex\r\n",
      "anchor = True\r\n",
      "; weather search multiplexIndex at the end of reads (True) or inside the reads (False)\r\n",
      "adapter_pos = 5\r\n",
      "; adapter is on 3 or 5 prime end.\r\n",
      "\r\n",
      "[fastqTrim]\r\n",
      "r1_adapter = AGATCGGAAGAGCACACGTCTGAAC\r\n",
      "r2_adapter = AGATCGGAAGAGCGTCGTGTAGGGA\r\n",
      "; Universal illumina adapter\r\n",
      "overlap = 6\r\n",
      "; least overlap of base and illumina adapter\r\n",
      "r1_left_cut = 10\r\n",
      "; constant length to trim at 5 prime end, apply before quality trim.\r\n",
      "r1_right_cut = 10\r\n",
      "; constant length to trim at 3 prime end, apply before quality trim.\r\n",
      "r2_left_cut = 10\r\n",
      "; constant length to trim at 5 prime end, apply before quality trim.\r\n",
      "r2_right_cut = 10\r\n",
      "; constant length to trim at 3 prime end, apply before quality trim.\r\n",
      "quality_threshold = 20\r\n",
      "; reads quality score threshold for trimming.\r\n",
      "length_threshold = 30\r\n",
      "; reads length threshold after all trim steps.\r\n",
      "total_reads_threshold = 10000\r\n",
      "; total minimum reads number threshold for a cell to be analyzed in subsequent steps.\r\n",
      "pigz_cores = 6\r\n",
      "; cores used by pigz\r\n",
      "cutadapt_cores = 6\r\n",
      "; cores used by cutadapt\r\n",
      "\r\n",
      "[bismark]\r\n",
      "bismark_reference= /gale/netapp/home/hanliu/ref/mouse/genome/fasta/with_chrl\r\n",
      "; reference directory of bismark\r\n",
      "cores = 8\r\n",
      "; cores used by bismark\r\n",
      "read_min = 10000\r\n",
      "; total minimum reads number threshold for a cell to be analyzed in subsequent steps.\r\n",
      "read_max = 10000000\r\n",
      "; total maximum reads number threshold for a cell to be analyzed in subsequent steps.\r\n",
      "\r\n",
      "[bamFilter]\r\n",
      "cores = 16\r\n",
      "; cores used by bamFilter step\r\n",
      "mapq_threshold = 10\r\n",
      "; reads MAPQ threshold\r\n",
      "\r\n",
      "[callMethylation]\r\n",
      "reference_fasta = /gale/netapp/home/hanliu/ref/mouse/genome/fasta/with_chrl/mm10_with_chrl.fa\r\n",
      "; reference fasta file, use the same one that bismark reference is prepared from\r\n",
      "num_upstr_bases = 0\r\n",
      "; number of base to include before mC\r\n",
      "num_downstr_bases = 2\r\n",
      "; number of base to include after mC\r\n",
      "buffer_line_number = 500000\r\n",
      "; buffer line number while calling the ALLC file.\r\n",
      "min_mapq = 0\r\n",
      "; reads MAPQ threshold, redundant if provided in bamFilter section.\r\n",
      "min_base_quality = 1\r\n",
      "; base quality threshold, redundant if provided in quality_threshold section.\r\n",
      "cores = 16\r\n",
      "; cores used by callMethylation step.\r\n",
      "\r\n"
     ]
    }
   ],
   "source": [
    "# !cat /home/hanliu/rdx4/mapping/prepare/RS1_mapping_config.ini"
   ]
  },
  {
   "cell_type": "markdown",
   "metadata": {},
   "source": [
    "##  prepare qsub commands\n",
    "\n",
    "###  STEP1: yap mapping-qsub\n",
    "Use \"yap mapping-qsub\" to prepare a whole output directory based on FASTQ dataframe and config.ini. See more details from here:\n",
    "\n",
    "```shell\n",
    "yap mapping-qsub -h\n",
    "```\n",
    "\n",
    "#### What does \"mapping-qsub\" do?\n",
    "- This command is only for preparing the mapping, but not actually run it. So it should finish in minites.\n",
    "- Once finished, you should see more details about how to do next: use the \"yap qsub\" to really run mapping with qsub.\n",
    "\n",
    "\n",
    "###  STEP2: yap qsub\n",
    "In the output of \"mapping-qsub\", you will find a commend like this:\n",
    "```\n",
    "yap qsub --working_dir out_dir \\\n",
    "         --project_name mapping \\\n",
    "         --command_file_path {cmd_json_path} \\\n",
    "         --total_cpu 160\n",
    "```\n",
    "This command do the real mapping using qsub queue and will return until all mapping finish. So I recommand to use qsub to submit this as well (as a master job), or use screen or nohup to run it in backend."
   ]
  }
 ],
 "metadata": {
  "kernelspec": {
   "display_name": "Python 3",
   "language": "python",
   "name": "python3"
  },
  "language_info": {
   "codemirror_mode": {
    "name": "ipython",
    "version": 3
   },
   "file_extension": ".py",
   "mimetype": "text/x-python",
   "name": "python",
   "nbconvert_exporter": "python",
   "pygments_lexer": "ipython3",
   "version": "3.6.5"
  },
  "toc": {
   "base_numbering": 1,
   "nav_menu": {},
   "number_sections": true,
   "sideBar": true,
   "skip_h1_title": true,
   "title_cell": "Table of Contents",
   "title_sidebar": "Contents",
   "toc_cell": true,
   "toc_position": {},
   "toc_section_display": true,
   "toc_window_display": true
  },
  "varInspector": {
   "cols": {
    "lenName": 16,
    "lenType": 16,
    "lenVar": 40
   },
   "kernels_config": {
    "python": {
     "delete_cmd_postfix": "",
     "delete_cmd_prefix": "del ",
     "library": "var_list.py",
     "varRefreshCmd": "print(var_dic_list())"
    },
    "r": {
     "delete_cmd_postfix": ") ",
     "delete_cmd_prefix": "rm(",
     "library": "var_list.r",
     "varRefreshCmd": "cat(var_dic_list()) "
    }
   },
   "types_to_exclude": [
    "module",
    "function",
    "builtin_function_or_method",
    "instance",
    "_Feature"
   ],
   "window_display": false
  }
 },
 "nbformat": 4,
 "nbformat_minor": 2
}

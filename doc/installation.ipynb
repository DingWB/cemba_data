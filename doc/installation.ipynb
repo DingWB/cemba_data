{
 "cells": [
  {
   "cell_type": "markdown",
   "metadata": {
    "toc": true
   },
   "source": [
    "<h1>Table of Contents<span class=\"tocSkip\"></span></h1>\n",
    "<div class=\"toc\"><ul class=\"toc-item\"><li><span><a href=\"#Setup-Conda-and-Mapping-Environment\" data-toc-modified-id=\"Setup-Conda-and-Mapping-Environment-1\"><span class=\"toc-item-num\">1&nbsp;&nbsp;</span>Setup Conda and Mapping Environment</a></span><ul class=\"toc-item\"><li><span><a href=\"#check-if-conda-is-installed\" data-toc-modified-id=\"check-if-conda-is-installed-1.1\"><span class=\"toc-item-num\">1.1&nbsp;&nbsp;</span>check if conda is installed</a></span></li><li><span><a href=\"#if-not-installed,-install-either-miniconda-or-anaconda.\" data-toc-modified-id=\"if-not-installed,-install-either-miniconda-or-anaconda.-1.2\"><span class=\"toc-item-num\">1.2&nbsp;&nbsp;</span>if not installed, install either miniconda or anaconda.</a></span></li><li><span><a href=\"#update-conda\" data-toc-modified-id=\"update-conda-1.3\"><span class=\"toc-item-num\">1.3&nbsp;&nbsp;</span>update conda</a></span></li><li><span><a href=\"#Set-up-bioconda\" data-toc-modified-id=\"Set-up-bioconda-1.4\"><span class=\"toc-item-num\">1.4&nbsp;&nbsp;</span>Set up bioconda</a></span></li><li><span><a href=\"#Create-Mapping-Environment\" data-toc-modified-id=\"Create-Mapping-Environment-1.5\"><span class=\"toc-item-num\">1.5&nbsp;&nbsp;</span>Create Mapping Environment</a></span></li><li><span><a href=\"#why-using-stand-alone-conda-environment?\" data-toc-modified-id=\"why-using-stand-alone-conda-environment?-1.6\"><span class=\"toc-item-num\">1.6&nbsp;&nbsp;</span>why using stand alone conda environment?</a></span></li><li><span><a href=\"#activate-new-environment\" data-toc-modified-id=\"activate-new-environment-1.7\"><span class=\"toc-item-num\">1.7&nbsp;&nbsp;</span>activate new environment</a></span></li></ul></li><li><span><a href=\"#Install-packages\" data-toc-modified-id=\"Install-packages-2\"><span class=\"toc-item-num\">2&nbsp;&nbsp;</span>Install packages</a></span><ul class=\"toc-item\"><li><span><a href=\"#install-packages-into-new-environment\" data-toc-modified-id=\"install-packages-into-new-environment-2.1\"><span class=\"toc-item-num\">2.1&nbsp;&nbsp;</span>install packages into new environment</a></span></li><li><span><a href=\"#clone-cemba-data-repo-and-install-it\" data-toc-modified-id=\"clone-cemba-data-repo-and-install-it-2.2\"><span class=\"toc-item-num\">2.2&nbsp;&nbsp;</span>clone cemba-data repo and install it</a></span></li><li><span><a href=\"#test-if-installed-correctly\" data-toc-modified-id=\"test-if-installed-correctly-2.3\"><span class=\"toc-item-num\">2.3&nbsp;&nbsp;</span>test if installed correctly</a></span></li></ul></li><li><span><a href=\"#update-the-package\" data-toc-modified-id=\"update-the-package-3\"><span class=\"toc-item-num\">3&nbsp;&nbsp;</span>update the package</a></span></li></ul></div>"
   ]
  },
  {
   "cell_type": "markdown",
   "metadata": {},
   "source": [
    "# Install\n",
    "##  Setup Conda and Mapping Environment\n",
    "###  check if conda is installed\n",
    "```shell\n",
    "conda info\n",
    "```\n",
    "\n",
    "###  if not installed, install either miniconda or anaconda.\n",
    "- IMPORTANT: select python 3\n",
    "- miniconda (recommand if you don't use python a lot): https://conda.io/miniconda.html\n",
    "- anaconda (larger): https://www.anaconda.com/download/\n",
    "\n",
    "###  update conda\n",
    "```shell\n",
    "conda update conda\n",
    "```\n",
    "\n",
    "### Set up bioconda\n",
    "[bioconda](https://bioconda.github.io/) is a package manager for most popular biological tools, its wonderful!\n",
    "```shell\n",
    "# run these command to add bioconda into your conda channel, the order of these 3 line matters\n",
    "conda config --add channels defaults\n",
    "conda config --add channels bioconda\n",
    "conda config --add channels conda-forge\n",
    "```\n",
    "\n",
    "###  Create Mapping Environment \n",
    "you can change the name into any desired name, but python version need to be >= 3.5, and I recommand you always use the newest python version (right now its 3.7)\n",
    "```shell\n",
    "conda create --name mapping python==3.7\n",
    "```\n",
    "\n",
    "### why using stand alone conda environment?\n",
    "- Using environment make sure all the mapping related package is handled by conda and pip in a stand alone place\n",
    "- It will not impact any of your other installed packages and vise versa.\n",
    "- This make sure the stability of pipeline.\n",
    "- The only drawback of using environment is **you need to activate environment every time**, because everything is only installed for that environment.\n",
    "- See [here](https://docs.conda.io/projects/conda/en/latest/user-guide/tasks/manage-environments.html) for more info about conda environment.\n",
    "\n",
    "###  activate new environment\n",
    "**remember to run this command EVERY TIME before using the pipeline.**\n",
    "\n",
    "```shell\n",
    "source activate mapping\n",
    "```"
   ]
  },
  {
   "cell_type": "markdown",
   "metadata": {},
   "source": [
    "## Install packages\n",
    "\n",
    "###  install packages into new environment\n",
    "```shell\n",
    "conda install -n mapping bedtools=2.27 bismark=0.20 bowtie2=2.3 cutadapt=1.18 fastqc=0.11 picard=2.18 samtools=1.9 htslib=1.9\n",
    "# for mCT mapping\n",
    "conda install -n mapping STAR=2.7\n",
    "\n",
    "# for generating ALLC files (single cell base level methylation table)\n",
    "# ALLCools is still in developing, right now only support install via github.\n",
    "git clone https://github.com/lhqing/ALLCools.git\n",
    "cd ALLCools\n",
    "pip install .\n",
    "```\n",
    "\n",
    "###  clone cemba-data repo and install it\n",
    "this step will take some time, a few packages will be installed into this environment\n",
    "```shell\n",
    "git clone https://github.com/lhqing/cemba_data.git\n",
    "cd cemba_data\n",
    "pip install .\n",
    "```\n",
    "\n",
    "###  test if installed correctly\n",
    "```shell\n",
    "yap -h\n",
    "```\n",
    "\n",
    "## update the package\n",
    "**Again, remember you should do this in mapping environment**\n",
    "\n",
    "```shell\n",
    "source activate mapping\n",
    "# or source activate your_environment_name\n",
    "\n",
    "cd /path/to/original/dir/you/clone/from/github/cemba_data\n",
    "git pull\n",
    "pip install .\n",
    "```"
   ]
  }
 ],
 "metadata": {
  "hide_input": false,
  "kernelspec": {
   "display_name": "Python 3",
   "language": "python",
   "name": "python3"
  },
  "language_info": {
   "codemirror_mode": {
    "name": "ipython",
    "version": 3
   },
   "file_extension": ".py",
   "mimetype": "text/x-python",
   "name": "python",
   "nbconvert_exporter": "python",
   "pygments_lexer": "ipython3",
   "version": "3.7.3"
  },
  "toc": {
   "base_numbering": 1,
   "nav_menu": {},
   "number_sections": true,
   "sideBar": true,
   "skip_h1_title": true,
   "title_cell": "Table of Contents",
   "title_sidebar": "Contents",
   "toc_cell": true,
   "toc_position": {},
   "toc_section_display": true,
   "toc_window_display": true
  },
  "varInspector": {
   "cols": {
    "lenName": 16,
    "lenType": 16,
    "lenVar": 40
   },
   "kernels_config": {
    "python": {
     "delete_cmd_postfix": "",
     "delete_cmd_prefix": "del ",
     "library": "var_list.py",
     "varRefreshCmd": "print(var_dic_list())"
    },
    "r": {
     "delete_cmd_postfix": ") ",
     "delete_cmd_prefix": "rm(",
     "library": "var_list.r",
     "varRefreshCmd": "cat(var_dic_list()) "
    }
   },
   "types_to_exclude": [
    "module",
    "function",
    "builtin_function_or_method",
    "instance",
    "_Feature"
   ],
   "window_display": false
  },
  "pycharm": {
   "stem_cell": {
    "cell_type": "raw",
    "source": [],
    "metadata": {
     "collapsed": false
    }
   }
  }
 },
 "nbformat": 4,
 "nbformat_minor": 2
}
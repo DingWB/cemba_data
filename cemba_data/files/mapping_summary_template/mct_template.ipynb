{
 "cells": [
  {
   "cell_type": "markdown",
   "id": "d3c2e64c",
   "metadata": {
    "ExecuteTime": {
     "end_time": "2020-09-19T06:43:48.662532Z",
     "start_time": "2020-09-19T06:43:48.659841Z"
    },
    "papermill": {
     "duration": 0.00971,
     "end_time": "2024-03-21T19:05:39.747083",
     "exception": false,
     "start_time": "2024-03-21T19:05:39.737373",
     "status": "completed"
    },
    "tags": []
   },
   "source": [
    "# snmCT Mapping Summary\n",
    "\n",
    "This notebook provides a quick overview of some key mapping metrics. You can customize it by yourself.\n",
    "\n",
    "[**See documentation about mapping metrics here.**](https://app.gitbook.com/@hq-1/s/mc/mapping-summary-and-metrics)"
   ]
  },
  {
   "cell_type": "markdown",
   "id": "3d97ad94",
   "metadata": {
    "papermill": {
     "duration": 0.005316,
     "end_time": "2024-03-21T19:05:39.758459",
     "exception": false,
     "start_time": "2024-03-21T19:05:39.753143",
     "status": "completed"
    },
    "tags": []
   },
   "source": [
    "## Parameters"
   ]
  },
  {
   "cell_type": "markdown",
   "id": "ff498cb0",
   "metadata": {
    "papermill": {
     "duration": 0.005766,
     "end_time": "2024-03-21T19:05:39.770264",
     "exception": false,
     "start_time": "2024-03-21T19:05:39.764498",
     "status": "completed"
    },
    "tags": []
   },
   "source": [
    "## Prepare"
   ]
  },
  {
   "cell_type": "code",
   "execution_count": null,
   "id": "cc9a27ca",
   "metadata": {
    "papermill": {
     "duration": 0.012973,
     "end_time": "2024-03-21T19:05:39.788401",
     "exception": false,
     "start_time": "2024-03-21T19:05:39.775428",
     "status": "completed"
    },
    "tags": [
     "parameters"
    ]
   },
   "outputs": [],
   "source": [
    "output_dir = ''\n",
    "plate_col = 'Plate'\n",
    "color_quantile = (0.025, 0.975)"
   ]
  },
  {
   "cell_type": "code",
   "execution_count": null,
   "id": "f945e7f9",
   "metadata": {
    "papermill": {
     "duration": 0.008846,
     "end_time": "2024-03-21T19:05:39.802551",
     "exception": false,
     "start_time": "2024-03-21T19:05:39.793705",
     "status": "completed"
    },
    "tags": [
     "injected-parameters"
    ]
   },
   "outputs": [],
   "source": [
    "# Parameters\n",
    "output_dir = \"/anvil/scratch/x-wding2/Projects/raw_Remind/mapping/mct_MiSeq\"\n"
   ]
  },
  {
   "cell_type": "markdown",
   "id": "b8d3e585",
   "metadata": {
    "papermill": {
     "duration": 0.00508,
     "end_time": "2024-03-21T19:05:39.812858",
     "exception": false,
     "start_time": "2024-03-21T19:05:39.807778",
     "status": "completed"
    },
    "tags": []
   },
   "source": [
    "### Load"
   ]
  },
  {
   "cell_type": "code",
   "execution_count": null,
   "id": "a19fb8d9",
   "metadata": {
    "papermill": {
     "duration": 0.186408,
     "end_time": "2024-03-21T19:05:40.004477",
     "exception": false,
     "start_time": "2024-03-21T19:05:39.818069",
     "status": "completed"
    },
    "tags": []
   },
   "outputs": [],
   "source": [
    "import pathlib\n",
    "import pandas as pd\n",
    "from cemba_data.utilities import get_configuration\n",
    "\n",
    "output_dir = pathlib.Path(output_dir)\n",
    "mapping_summary = pd.read_csv(output_dir / 'stats/MappingSummary.csv.gz', index_col=0)\n",
    "config = get_configuration(output_dir / 'mapping_config.ini')"
   ]
  },
  {
   "cell_type": "code",
   "execution_count": null,
   "id": "6d62859a",
   "metadata": {
    "papermill": {
     "duration": null,
     "end_time": null,
     "exception": null,
     "start_time": null,
     "status": "pending"
    },
    "tags": []
   },
   "outputs": [],
   "source": [
    "mapping_summary.columns"
   ]
  },
  {
   "cell_type": "markdown",
   "id": "97787aee",
   "metadata": {
    "papermill": {
     "duration": null,
     "end_time": null,
     "exception": null,
     "start_time": null,
     "status": "pending"
    },
    "tags": []
   },
   "source": [
    "### Plot"
   ]
  },
  {
   "cell_type": "code",
   "execution_count": null,
   "id": "78114cdf",
   "metadata": {
    "papermill": {
     "duration": null,
     "end_time": null,
     "exception": null,
     "start_time": null,
     "status": "pending"
    },
    "tags": []
   },
   "outputs": [],
   "source": [
    "import matplotlib.pyplot as plt\n",
    "import seaborn as sns\n",
    "from cemba_data.mapping import cutoff_vs_cell_remain, plot_on_plate\n",
    "\n",
    "\n",
    "def distplot_and_plate_view(data, hue, color_quantile=color_quantile, config=config):\n",
    "    fig1, (vmin, vmax) = cutoff_vs_cell_remain(data=data[hue].dropna(), \n",
    "                                               bins=50, kde=False,\n",
    "                                               xlim_quantile=color_quantile)\n",
    "\n",
    "    fig2, plate_names, plate_datas = plot_on_plate(\n",
    "        data=data,\n",
    "        hue=hue,\n",
    "        groupby=plate_col,\n",
    "        vmin=vmin,\n",
    "        vmax=vmax,\n",
    "        aggregation_func=lambda i: i.mean())\n",
    "    \n",
    "    fig3, ax = plt.subplots(figsize=(data[plate_col].unique().size * 2, 4))\n",
    "    plate_hue_name = 'MultiplexGroup' if config['barcode_version'] == 'V2' else 'RandomIndex'\n",
    "    sns.boxenplot(data=data, x=plate_col, y=hue, palette='hls', \n",
    "                  ax=ax, hue=plate_hue_name)\n",
    "    ax.set_ylim(vmin, vmax)\n",
    "    ax.xaxis.set_tick_params(rotation=90)\n",
    "    ax.legend(bbox_to_anchor=(1.1, 1), title=plate_hue_name)\n",
    "    sns.despine(ax=ax)\n",
    "    return"
   ]
  },
  {
   "cell_type": "code",
   "execution_count": null,
   "id": "28620843",
   "metadata": {
    "papermill": {
     "duration": null,
     "end_time": null,
     "exception": null,
     "start_time": null,
     "status": "pending"
    },
    "tags": []
   },
   "outputs": [],
   "source": [
    "# plot defaults\n",
    "sns.set_context(context='notebook')\n",
    "plt.rc('figure', dpi=150)"
   ]
  },
  {
   "cell_type": "markdown",
   "id": "e2777862",
   "metadata": {
    "papermill": {
     "duration": null,
     "end_time": null,
     "exception": null,
     "start_time": null,
     "status": "pending"
    },
    "tags": []
   },
   "source": [
    "## Summary"
   ]
  },
  {
   "cell_type": "code",
   "execution_count": null,
   "id": "e7d21fbe",
   "metadata": {
    "papermill": {
     "duration": null,
     "end_time": null,
     "exception": null,
     "start_time": null,
     "status": "pending"
    },
    "tags": []
   },
   "outputs": [],
   "source": [
    "# conventional basic check, change as you need\n",
    "mccc_cutoff = 0.03\n",
    "high_mccc = mapping_summary['mCCCFrac'] > mccc_cutoff\n",
    "\n",
    "miseq_guess = mapping_summary['FinalDNAReads'].mean() < 50000\n",
    "reads_cutoff = 100 if miseq_guess else 500000\n",
    "low_reads = mapping_summary['FinalDNAReads'] < reads_cutoff\n",
    "\n",
    "success = ~high_mccc & ~low_reads\n",
    "n_cell = mapping_summary.shape[0]\n",
    "n_plate = mapping_summary['Plate'].unique().size\n",
    "total_wells = n_plate * 384"
   ]
  },
  {
   "cell_type": "code",
   "execution_count": null,
   "id": "618abc34",
   "metadata": {
    "papermill": {
     "duration": null,
     "end_time": null,
     "exception": null,
     "start_time": null,
     "status": "pending"
    },
    "tags": []
   },
   "outputs": [],
   "source": [
    "print(f\"\"\"\n",
    "This library seems to be a {'MiSeq' if miseq_guess else 'NovaSeq'} library.\n",
    "\n",
    "Cells\n",
    "    {n_plate}\\t plates\n",
    "    {total_wells}\\t wells (total cell number in theory)\n",
    "\n",
    "    {n_cell} ({n_cell / total_wells * 100:.1f}%)\\t cells having mapping metric\n",
    "    {success.sum()} ({success.sum() / total_wells * 100:.1f}%)\\t cells passed basic QC (mCCC and # of final reads)\n",
    "    {high_mccc.sum()} ({high_mccc.sum() / total_wells * 100:.1f}%)\\tcells having high mCCC frac (> {mccc_cutoff})\n",
    "    {low_reads.sum()} ({low_reads.sum() / total_wells * 100:.1f}%)\\tcells having low number of final mC reads (< {reads_cutoff}).\n",
    "\n",
    "Reads\n",
    "    {mapping_summary['CellInputReadPairs'].sum()*2:.0f}\\tTotal Input Reads (R1 & R2)\n",
    "    {mapping_summary['CellInputReadPairs'].mean()*2:.0f}\\tAverage Input Reads for cells having metric (R1 & R2)\n",
    "    \n",
    "    {mapping_summary['FinalDNAReads'].sum():.0f}\\tTotal Final DNA Reads (R1 & R2)\n",
    "    {mapping_summary['FinalDNAReads'].mean():.0f}\\tAverage Final DNA Reads for cells having metric (R1 & R2)\n",
    "    {mapping_summary['FinalRNAReads'].sum():.0f}\\tTotal Final RNA Reads (R1)\n",
    "    {mapping_summary['FinalRNAReads'].mean():.0f}\\tAverage Final RNA Reads for cells having metric (R1)\n",
    "    {mapping_summary['GenesDetected'].mean():.0f}\\tAverage Genes Detected for cells having metric (R1)\n",
    "\n",
    "    {mapping_summary['DNAOverallMappingRate'].mean():.1f}%\\tDNAOverallMappingRate for cells having metric\n",
    "    {mapping_summary['RNAOverallMappingRate'].mean():.1f}%\\tRNAOverallMappingRate for cells having metric\n",
    "    {mapping_summary['DNAUniqueAlignPCRDuplicationRate'].mean() * 100:.1f}%\\tDNAUniqueAlignPCRDuplicationRate for cells having metric\n",
    "\"\"\")"
   ]
  },
  {
   "cell_type": "markdown",
   "id": "150877da",
   "metadata": {
    "papermill": {
     "duration": null,
     "end_time": null,
     "exception": null,
     "start_time": null,
     "status": "pending"
    },
    "tags": []
   },
   "source": [
    "## Reads Yield\n",
    "\n",
    "### DNA Yield"
   ]
  },
  {
   "cell_type": "code",
   "execution_count": null,
   "id": "e99377b9",
   "metadata": {
    "jupyter": {
     "outputs_hidden": false
    },
    "papermill": {
     "duration": null,
     "end_time": null,
     "exception": null,
     "start_time": null,
     "status": "pending"
    },
    "pycharm": {
     "name": "#%%\n"
    },
    "tags": []
   },
   "outputs": [],
   "source": [
    "distplot_and_plate_view(mapping_summary, hue='DNAReadsYield')"
   ]
  },
  {
   "cell_type": "markdown",
   "id": "8b3a2cb6",
   "metadata": {
    "papermill": {
     "duration": null,
     "end_time": null,
     "exception": null,
     "start_time": null,
     "status": "pending"
    },
    "tags": []
   },
   "source": [
    "### RNA Yield"
   ]
  },
  {
   "cell_type": "code",
   "execution_count": null,
   "id": "1ffb7503",
   "metadata": {
    "jupyter": {
     "outputs_hidden": false
    },
    "papermill": {
     "duration": null,
     "end_time": null,
     "exception": null,
     "start_time": null,
     "status": "pending"
    },
    "pycharm": {
     "name": "#%%\n"
    },
    "tags": []
   },
   "outputs": [],
   "source": [
    "distplot_and_plate_view(mapping_summary, hue='RNAReadsYield')"
   ]
  },
  {
   "cell_type": "markdown",
   "id": "2ae95b54",
   "metadata": {
    "papermill": {
     "duration": null,
     "end_time": null,
     "exception": null,
     "start_time": null,
     "status": "pending"
    },
    "tags": []
   },
   "source": [
    "### RNA / (DNA + RNA)"
   ]
  },
  {
   "cell_type": "code",
   "execution_count": null,
   "id": "8671b038",
   "metadata": {
    "jupyter": {
     "outputs_hidden": false
    },
    "papermill": {
     "duration": null,
     "end_time": null,
     "exception": null,
     "start_time": null,
     "status": "pending"
    },
    "pycharm": {
     "name": "#%%\n"
    },
    "tags": []
   },
   "outputs": [],
   "source": [
    "distplot_and_plate_view(mapping_summary, hue='RNA/(DNA+RNA)')"
   ]
  },
  {
   "cell_type": "markdown",
   "id": "3cdb399e",
   "metadata": {
    "papermill": {
     "duration": null,
     "end_time": null,
     "exception": null,
     "start_time": null,
     "status": "pending"
    },
    "pycharm": {
     "name": "#%% md\n"
    },
    "tags": []
   },
   "source": [
    "## mC Fraction\n",
    "\n",
    "### mCCC"
   ]
  },
  {
   "cell_type": "code",
   "execution_count": null,
   "id": "ed393efc",
   "metadata": {
    "papermill": {
     "duration": null,
     "end_time": null,
     "exception": null,
     "start_time": null,
     "status": "pending"
    },
    "tags": []
   },
   "outputs": [],
   "source": [
    "distplot_and_plate_view(mapping_summary, hue='mCCCFrac')"
   ]
  },
  {
   "cell_type": "markdown",
   "id": "934a3721",
   "metadata": {
    "ExecuteTime": {
     "end_time": "2020-09-19T06:46:57.783339Z",
     "start_time": "2020-09-19T06:46:57.781357Z"
    },
    "papermill": {
     "duration": null,
     "end_time": null,
     "exception": null,
     "start_time": null,
     "status": "pending"
    },
    "tags": []
   },
   "source": [
    "### mCH"
   ]
  },
  {
   "cell_type": "code",
   "execution_count": null,
   "id": "331e14b6",
   "metadata": {
    "papermill": {
     "duration": null,
     "end_time": null,
     "exception": null,
     "start_time": null,
     "status": "pending"
    },
    "tags": []
   },
   "outputs": [],
   "source": [
    "distplot_and_plate_view(mapping_summary, hue='mCHFrac')"
   ]
  },
  {
   "cell_type": "markdown",
   "id": "ab60ce3c",
   "metadata": {
    "papermill": {
     "duration": null,
     "end_time": null,
     "exception": null,
     "start_time": null,
     "status": "pending"
    },
    "tags": []
   },
   "source": [
    "### mCG"
   ]
  },
  {
   "cell_type": "code",
   "execution_count": null,
   "id": "9aca1f68",
   "metadata": {
    "papermill": {
     "duration": null,
     "end_time": null,
     "exception": null,
     "start_time": null,
     "status": "pending"
    },
    "tags": []
   },
   "outputs": [],
   "source": [
    "distplot_and_plate_view(mapping_summary, hue='mCGFrac')"
   ]
  },
  {
   "cell_type": "markdown",
   "id": "80e197be",
   "metadata": {
    "papermill": {
     "duration": null,
     "end_time": null,
     "exception": null,
     "start_time": null,
     "status": "pending"
    },
    "tags": []
   },
   "source": [
    "## FASTQ Metric"
   ]
  },
  {
   "cell_type": "markdown",
   "id": "e0a7b79c",
   "metadata": {
    "papermill": {
     "duration": null,
     "end_time": null,
     "exception": null,
     "start_time": null,
     "status": "pending"
    },
    "tags": []
   },
   "source": [
    "### CellInputReadPairs"
   ]
  },
  {
   "cell_type": "code",
   "execution_count": null,
   "id": "ef1d51a9",
   "metadata": {
    "papermill": {
     "duration": null,
     "end_time": null,
     "exception": null,
     "start_time": null,
     "status": "pending"
    },
    "tags": []
   },
   "outputs": [],
   "source": [
    "distplot_and_plate_view(mapping_summary, hue='CellInputReadPairs')"
   ]
  },
  {
   "cell_type": "markdown",
   "id": "f149666b",
   "metadata": {
    "papermill": {
     "duration": null,
     "end_time": null,
     "exception": null,
     "start_time": null,
     "status": "pending"
    },
    "tags": []
   },
   "source": [
    "### Cell Barcode Portion"
   ]
  },
  {
   "cell_type": "code",
   "execution_count": null,
   "id": "4f54187f",
   "metadata": {
    "papermill": {
     "duration": null,
     "end_time": null,
     "exception": null,
     "start_time": null,
     "status": "pending"
    },
    "tags": []
   },
   "outputs": [],
   "source": [
    "try:\n",
    "    distplot_and_plate_view(mapping_summary, hue='CellBarcodeRatio')\n",
    "except:\n",
    "    pass"
   ]
  },
  {
   "cell_type": "markdown",
   "id": "59e3a823",
   "metadata": {
    "papermill": {
     "duration": null,
     "end_time": null,
     "exception": null,
     "start_time": null,
     "status": "pending"
    },
    "tags": []
   },
   "source": [
    "## Mapping Rate\n",
    "\n",
    "### R1 Bismark Mapping Rate"
   ]
  },
  {
   "cell_type": "code",
   "execution_count": null,
   "id": "f13c65f1",
   "metadata": {
    "papermill": {
     "duration": null,
     "end_time": null,
     "exception": null,
     "start_time": null,
     "status": "pending"
    },
    "tags": []
   },
   "outputs": [],
   "source": [
    "try:\n",
    "    distplot_and_plate_view(mapping_summary, hue='R1MappingRate')\n",
    "except:\n",
    "    distplot_and_plate_view(mapping_summary, hue='DNAOverallMappingRate')"
   ]
  },
  {
   "cell_type": "markdown",
   "id": "975463e4",
   "metadata": {
    "papermill": {
     "duration": null,
     "end_time": null,
     "exception": null,
     "start_time": null,
     "status": "pending"
    },
    "tags": []
   },
   "source": [
    "## PCR Duplication Rate"
   ]
  },
  {
   "cell_type": "markdown",
   "id": "2fab8b95",
   "metadata": {
    "papermill": {
     "duration": null,
     "end_time": null,
     "exception": null,
     "start_time": null,
     "status": "pending"
    },
    "tags": []
   },
   "source": [
    "### R1 PCR Duplication Rate"
   ]
  },
  {
   "cell_type": "code",
   "execution_count": null,
   "id": "e490f566",
   "metadata": {
    "papermill": {
     "duration": null,
     "end_time": null,
     "exception": null,
     "start_time": null,
     "status": "pending"
    },
    "tags": []
   },
   "outputs": [],
   "source": [
    "try:\n",
    "    distplot_and_plate_view(mapping_summary, hue='R1DuplicationRate')\n",
    "except:\n",
    "    distplot_and_plate_view(mapping_summary, hue='DNAUniqueAlignPCRDuplicationRate')"
   ]
  },
  {
   "cell_type": "markdown",
   "id": "5795b7ae",
   "metadata": {
    "papermill": {
     "duration": null,
     "end_time": null,
     "exception": null,
     "start_time": null,
     "status": "pending"
    },
    "tags": []
   },
   "source": [
    "## Final Reads\n",
    "\n",
    "### DNA (mC) Reads"
   ]
  },
  {
   "cell_type": "code",
   "execution_count": null,
   "id": "84948ebb",
   "metadata": {
    "papermill": {
     "duration": null,
     "end_time": null,
     "exception": null,
     "start_time": null,
     "status": "pending"
    },
    "tags": []
   },
   "outputs": [],
   "source": [
    "distplot_and_plate_view(mapping_summary, hue='FinalDNAReads')"
   ]
  },
  {
   "cell_type": "markdown",
   "id": "bc7d50cd",
   "metadata": {
    "papermill": {
     "duration": null,
     "end_time": null,
     "exception": null,
     "start_time": null,
     "status": "pending"
    },
    "tags": []
   },
   "source": [
    "### RNA Reads (R1)"
   ]
  },
  {
   "cell_type": "code",
   "execution_count": null,
   "id": "11ea7a7e",
   "metadata": {
    "papermill": {
     "duration": null,
     "end_time": null,
     "exception": null,
     "start_time": null,
     "status": "pending"
    },
    "tags": []
   },
   "outputs": [],
   "source": [
    "distplot_and_plate_view(mapping_summary, hue='FinalRNAReads')"
   ]
  },
  {
   "cell_type": "markdown",
   "id": "a9ab33f4",
   "metadata": {
    "papermill": {
     "duration": null,
     "end_time": null,
     "exception": null,
     "start_time": null,
     "status": "pending"
    },
    "tags": []
   },
   "source": [
    "### Genes Detected"
   ]
  },
  {
   "cell_type": "code",
   "execution_count": null,
   "id": "06f68ea4",
   "metadata": {
    "papermill": {
     "duration": null,
     "end_time": null,
     "exception": null,
     "start_time": null,
     "status": "pending"
    },
    "tags": []
   },
   "outputs": [],
   "source": [
    "distplot_and_plate_view(mapping_summary, hue='GenesDetected')"
   ]
  },
  {
   "cell_type": "markdown",
   "id": "596e271b",
   "metadata": {
    "papermill": {
     "duration": null,
     "end_time": null,
     "exception": null,
     "start_time": null,
     "status": "pending"
    },
    "tags": []
   },
   "source": [
    "## Mapping config"
   ]
  },
  {
   "cell_type": "code",
   "execution_count": null,
   "id": "e6ced6dd",
   "metadata": {
    "papermill": {
     "duration": null,
     "end_time": null,
     "exception": null,
     "start_time": null,
     "status": "pending"
    },
    "tags": []
   },
   "outputs": [],
   "source": [
    "config"
   ]
  },
  {
   "cell_type": "code",
   "execution_count": null,
   "id": "dde8d669-3e32-4c57-b8ce-614c741b8586",
   "metadata": {},
   "outputs": [],
   "source": []
  }
 ],
 "metadata": {
  "hide_input": false,
  "kernelspec": {
   "display_name": "yap",
   "language": "python",
   "name": "yap"
  },
  "language_info": {
   "codemirror_mode": {
    "name": "ipython",
    "version": 3
   },
   "file_extension": ".py",
   "mimetype": "text/x-python",
   "name": "python",
   "nbconvert_exporter": "python",
   "pygments_lexer": "ipython3",
   "version": "3.8.19"
  },
  "papermill": {
   "duration": 22.287614,
   "end_time": "2024-03-21T19:05:41.499018",
   "environment_variables": {},
   "exception": true,
   "input_path": "/anvil/projects/x-mcb130189/Wubin/Software/miniconda3/envs/yap/lib/python3.8/site-packages/cemba_data/files/mapping_summary_template/mct_template.ipynb",
   "output_path": "/anvil/scratch/x-wding2/Projects/raw_Remind/mapping/mct_MiSeq/stats/MappingSummary.ipynb",
   "parameters": {
    "output_dir": "/anvil/scratch/x-wding2/Projects/raw_Remind/mapping/mct_MiSeq"
   },
   "start_time": "2024-03-21T19:05:19.211404",
   "version": "2.1.3"
  },
  "toc": {
   "base_numbering": 1,
   "nav_menu": {},
   "number_sections": true,
   "sideBar": true,
   "skip_h1_title": true,
   "title_cell": "Table of Contents",
   "title_sidebar": "Contents",
   "toc_cell": false,
   "toc_position": {
    "height": "calc(100% - 180px)",
    "left": "10px",
    "top": "150px",
    "width": "499.594px"
   },
   "toc_section_display": true,
   "toc_window_display": true
  }
 },
 "nbformat": 4,
 "nbformat_minor": 5
}
